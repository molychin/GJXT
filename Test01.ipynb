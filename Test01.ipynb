{
 "cells": [
  {
   "cell_type": "markdown",
   "metadata": {},
   "source": [
    "$$\\int_0^{+\\infty} x^2 dx$$"
   ]
  },
  {
   "cell_type": "code",
   "execution_count": 2,
   "metadata": {},
   "outputs": [
    {
     "name": "stdout",
     "output_type": "stream",
     "text": [
      " 驱动器 D 中的卷是 SSD-MolyChin\n",
      " 卷的序列号是 0007-6C95\n",
      "\n",
      " d:\\python\\GJXT 的目录\n",
      "\n",
      "2019/03/17  17:16    <DIR>          .\n",
      "2019/03/17  17:16    <DIR>          ..\n",
      "2019/03/17  16:59    <DIR>          .ipynb_checkpoints\n",
      "2019/02/26  19:42    <DIR>          data\n",
      "2019/01/14  20:58         4,503,997 gjxt-1.ipynb\n",
      "2019/02/14  00:46         1,890,723 gjxt-1a.ipynb\n",
      "2018/01/31  20:58           136,324 gjxt-2-20180125.ipynb\n",
      "2018/02/04  00:48           185,147 gjxt-2-20180131.ipynb\n",
      "2018/02/08  23:56           381,085 gjxt-3-20180208.ipynb\n",
      "2018/02/21  19:06         1,655,835 gjxt-4-20180217.ipynb\n",
      "2018/02/18  23:35           346,367 gjxt-tech-20180126.ipynb\n",
      "2017/12/31  13:45           127,087 gjxt20171228.ipynb\n",
      "2018/01/04  21:51            96,133 gjxt20171231.ipynb\n",
      "2019/01/16  22:17            74,989 gjxt_data_1.ipynb\n",
      "2019/02/24  22:45    <DIR>          img\n",
      "2019/03/17  17:16               693 Test01.ipynb\n",
      "2019/02/14  18:07           344,301 单门课程成绩分析.ipynb\n",
      "2019/02/13  22:46         1,440,364 学生个人成绩分析.ipynb\n",
      "2019/02/15  18:52            82,608 成绩从数据库获取到本地.ipynb\n",
      "2019/02/22  10:58           145,629 成绩预处理.ipynb\n",
      "2019/02/26  16:46            25,265 批量导出教师成绩分析表【琴箱图】.ipynb\n",
      "2019/02/25  23:39            24,673 批量导出教师成绩分析表【糖葫芦图+箱图】★.ipynb\n",
      "2019/02/26  20:03           303,539 指定学期课程教师成绩分析.ipynb\n",
      "2019/02/24  17:49           342,734 按每学期输出教师的成绩分析图.ipynb\n",
      "2019/02/14  22:26             5,249 教师基本信息表获取.ipynb\n",
      "2019/02/26  20:09           136,449 教师成绩分析.ipynb\n",
      "2019/02/16  20:13             5,381 特征课程与学生成绩相关性分析.ipynb\n",
      "2019/02/26  21:42            78,185 课程成绩呈现形式.ipynb\n",
      "              23 个文件     12,332,757 字节\n",
      "               5 个目录  6,754,164,736 可用字节\n"
     ]
    }
   ],
   "source": [
    "!dir"
   ]
  },
  {
   "cell_type": "code",
   "execution_count": 5,
   "metadata": {},
   "outputs": [
    {
     "name": "stdout",
     "output_type": "stream",
     "text": [
      "<img src=\"http://blog.jupyter.org/content/images/2015/02/jupyter-sq-text.png\"\n",
      "style=\"width:100px;height:100px;float:left\">\n",
      "!dir\n",
      "!cd data\n",
      "!dir\n",
      "%hist\n"
     ]
    }
   ],
   "source": [
    "%hist"
   ]
  },
  {
   "cell_type": "code",
   "execution_count": 8,
   "metadata": {},
   "outputs": [
    {
     "name": "stdout",
     "output_type": "stream",
     "text": [
      "Object `arange` not found.\n"
     ]
    }
   ],
   "source": [
    "arange?"
   ]
  },
  {
   "cell_type": "code",
   "execution_count": null,
   "metadata": {
    "collapsed": true
   },
   "outputs": [],
   "source": []
  }
 ],
 "metadata": {
  "kernelspec": {
   "display_name": "Python 3",
   "language": "python",
   "name": "python3"
  },
  "language_info": {
   "codemirror_mode": {
    "name": "ipython",
    "version": 3
   },
   "file_extension": ".py",
   "mimetype": "text/x-python",
   "name": "python",
   "nbconvert_exporter": "python",
   "pygments_lexer": "ipython3",
   "version": "3.6.3"
  }
 },
 "nbformat": 4,
 "nbformat_minor": 2
}
