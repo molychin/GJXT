{
 "cells": [
  {
   "cell_type": "markdown",
   "metadata": {},
   "source": [
    "## 教师基本信息表获取"
   ]
  },
  {
   "cell_type": "markdown",
   "metadata": {
    "collapsed": true
   },
   "source": [
    "### 数据库名：\tJW_JG_JZGJBXXB\t\t\t\n",
    "说明：\t教职工信息表\t\t\t\n",
    "字段名\t字段说明\t字段类型\t字段长度\t是否空值\n",
    "BGDH\t办公电话\tVARCHAR2\t30\tY\n",
    "BZLB\t编制类别\tVARCHAR2\t30\tY\n",
    "CJGZNY\t参加工作年月\tVARCHAR2\t10\tY\n",
    "CJNY\t从教年月\tVARCHAR2\t10\tY\n",
    "CSD\t出生地\tVARCHAR2\t200\tY\n",
    "CSRQ\t出生日期\tVARCHAR2\t10\tY★\n",
    "CYM\t曾用名\tVARCHAR2\t60\tY\n",
    "CZDH\t传真电话\tVARCHAR2\t30\tY\n",
    "DABH\t档案编号\tVARCHAR2\t30\tY\n",
    "DAWB\t档案文本\tVARCHAR2\t1000\tY\n",
    "DQZT\t当前状态0:不在职,1:在职\tVARCHAR2\t6\tY★\n",
    "DWH\t单位号\tVARCHAR2\t100\tY\n",
    "DZYX\t电子邮箱\tVARCHAR2\t50\tY\n",
    "GATQW\t港澳台侨外\tVARCHAR2\t20\tY\n",
    "GJ\t国籍/地区码\tVARCHAR2\t50\tY\n",
    "HKLBMC\t户口类别\tVARCHAR2\t30\tY\n",
    "HKSZD\t户口所在地\tVARCHAR2\t100\tY\n",
    "HYZK\t婚姻状况\tVARCHAR2\t10\tY\n",
    "JG\t籍贯\tVARCHAR2\t50\tY★\n",
    "JGH\t教工号\tVARCHAR2\t20\tY★\n",
    "JGH_ID\t教工号ID\tVARCHAR2\t32\tN★\n",
    "JG_ID\t机构ID\tVARCHAR2\t32\tY★\n",
    "JKZK\t健康状况\tVARCHAR2\t20\tY\n",
    "JSJJ\t教师简介\tCLOB\t4000\tY\n",
    "JTZZ\t家庭住址\tVARCHAR2\t100\tY\n",
    "JZGLB\t教职工类别\tVARCHAR2\t30\tY\n",
    "LXRQ\t来校日期\tVARCHAR2\t10\tY★\n",
    "MZM\t民族码\tVARCHAR2\t50\tY\n",
    "QXRQ\t起薪日期\tVARCHAR2\t10\tY\n",
    "RKZK\t任课状况\tVARCHAR2\t30\tY\n",
    "SFZH\t身份证号\tVARCHAR2\t200\tY\n",
    "SFZJLX\t身份证件类型\tVARCHAR2\t20\tY\n",
    "SJHM\t手机号码\tVARCHAR2\t40\tY\n",
    "TC\t特长\tVARCHAR2\t100\tY\n",
    "TXDZ\t通讯地址\tVARCHAR2\t100\tY\n",
    "WHCDM\t文化程度码\tVARCHAR2\t30\tY\n",
    "XBM\t性别码\tVARCHAR2\t10\tY★\n",
    "XM\t姓名\tVARCHAR2\t60\tY★\n",
    "XMPY\t姓名拼音\tVARCHAR2\t60\tY\n",
    "XQMC\t校区名称\tVARCHAR2\t30\tY\n",
    "XXMC\t血型\tVARCHAR2\t10\tY\n",
    "XYZJ\t信仰宗教\tVARCHAR2\t30\tY\n",
    "XZZ\t现住址\tVARCHAR2\t100\tY\n",
    "YJFX\t研究方向\tVARCHAR2\t30\tY\n",
    "YZBM\t邮政编码\tVARCHAR2\t6\tY\n",
    "ZGXL\t最高学历\tVARCHAR2\t30\tY★\n"
   ]
  },
  {
   "cell_type": "code",
   "execution_count": 4,
   "metadata": {
    "collapsed": true
   },
   "outputs": [],
   "source": [
    "import cx_Oracle\n",
    "import pandas as pd\n",
    "import molychin.database as mldb"
   ]
  },
  {
   "cell_type": "markdown",
   "metadata": {},
   "source": [
    "### 获取以下字段数据(10个)\n",
    "CSRQ\t出生日期\tVARCHAR2\t10\tY★\n",
    "DQZT\t当前状态0:不在职,1:在职\tVARCHAR2\t6\tY★\n",
    "JGH\t教工号\tVARCHAR2\t20\tY★\n",
    "JGH_ID\t教工号ID\tVARCHAR2\t32\tN★\n",
    "JG_ID\t机构ID\tVARCHAR2\t32\tY★\n",
    "JG\t籍贯\tVARCHAR2\t50\tY★\n",
    "LXRQ\t来校日期\tVARCHAR2\t10\tY★\n",
    "ZGXL\t最高学历\tVARCHAR2\t30\tY★\n",
    "XM\t姓名\tVARCHAR2\t60\tY★\n",
    "XBM\t性别码\tVARCHAR2\t10\tY★"
   ]
  },
  {
   "cell_type": "code",
   "execution_count": 7,
   "metadata": {},
   "outputs": [
    {
     "name": "stdout",
     "output_type": "stream",
     "text": [
      "select xm,jgh,jg_id,csrq,dqzt,jgh_id,jg,lxrq,zgxl,xbm from zftal_jwlg.gjfx_view_jsjbxxb\n"
     ]
    }
   ],
   "source": [
    "cursor=mldb.moly_condb() \n",
    "SQL1=\"select xm,jgh,jg_id,csrq,dqzt,jgh_id,jg,lxrq,zgxl,xbm from zftal_jwlg.gjfx_view_jsjbxxb\"\n",
    "cursor.execute(SQL1)\n",
    "print(cursor.statement)\n"
   ]
  },
  {
   "cell_type": "code",
   "execution_count": 9,
   "metadata": {},
   "outputs": [
    {
     "name": "stdout",
     "output_type": "stream",
     "text": [
      "ok\n"
     ]
    }
   ],
   "source": [
    "list_jsjbxx=[]\n",
    "for ls in cursor:\n",
    "    list_jsjbxx.append([ls[0],ls[1],ls[2],ls[3],ls[4],ls[5],ls[6],ls[7],ls[8],ls[9]])\n",
    "    \n",
    "df_jsjbxx=pd.DataFrame(list_jsjbxx,columns=['XM','JGH','JG_ID','CSRQ','DQZT','JGH_ID','JG','LXRQ','ZGXL','XBM'])    \n",
    "df_jsjbxx.to_csv('data/jsjbxxb20190214.csv',index=False)\n",
    "print('ok')"
   ]
  },
  {
   "cell_type": "code",
   "execution_count": null,
   "metadata": {
    "collapsed": true
   },
   "outputs": [],
   "source": []
  },
  {
   "cell_type": "code",
   "execution_count": null,
   "metadata": {
    "collapsed": true
   },
   "outputs": [],
   "source": []
  },
  {
   "cell_type": "markdown",
   "metadata": {
    "collapsed": true
   },
   "source": [
    "### 完成"
   ]
  }
 ],
 "metadata": {
  "kernelspec": {
   "display_name": "Python 3",
   "language": "python",
   "name": "python3"
  },
  "language_info": {
   "codemirror_mode": {
    "name": "ipython",
    "version": 3
   },
   "file_extension": ".py",
   "mimetype": "text/x-python",
   "name": "python",
   "nbconvert_exporter": "python",
   "pygments_lexer": "ipython3",
   "version": "3.6.3"
  }
 },
 "nbformat": 4,
 "nbformat_minor": 2
}
