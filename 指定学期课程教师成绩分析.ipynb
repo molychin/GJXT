{
 "cells": [
  {
   "cell_type": "markdown",
   "metadata": {},
   "source": [
    "## 指定学期课程教师成绩分析"
   ]
  },
  {
   "cell_type": "code",
   "execution_count": 1,
   "metadata": {
    "collapsed": true
   },
   "outputs": [],
   "source": [
    "import numpy as np\n",
    "import pandas as pd\n",
    "import matplotlib as mpl\n",
    "import matplotlib.pyplot as plt\n",
    "import os   \n",
    "\n",
    "#%matplotlib inline\n",
    "plt.rcdefaults()\n",
    "plt.rcParams['font.sans-serif']=['SimHei'] #用来正常显示中文标签\n",
    "plt.rcParams['figure.figsize']=[9,9] #改变显示图形的大小"
   ]
  },
  {
   "cell_type": "code",
   "execution_count": 2,
   "metadata": {},
   "outputs": [
    {
     "name": "stderr",
     "output_type": "stream",
     "text": [
      "d:\\ProgramData\\Anaconda3\\lib\\site-packages\\IPython\\core\\interactiveshell.py:2728: DtypeWarning: Columns (20) have mixed types. Specify dtype option on import or set low_memory=False.\n",
      "  interactivity=interactivity, compiler=compiler, result=result)\n"
     ]
    }
   ],
   "source": [
    "#XNM,XQM,JSGH,JSXM,KCH,KCMC,BFZCJ\n",
    "file_name='data/xscjb20190215.csv'\n",
    "fields=['XNM','XQM','JSGH','JSXM','KCH','KCMC','BFZCJ']\n",
    "df_cjb_js_term=pd.read_csv(file_name,usecols=fields,dtype={'XNM':np.object,'XQM':np.object})"
   ]
  },
  {
   "cell_type": "code",
   "execution_count": 3,
   "metadata": {},
   "outputs": [
    {
     "data": {
      "text/html": [
       "<div>\n",
       "<style scoped>\n",
       "    .dataframe tbody tr th:only-of-type {\n",
       "        vertical-align: middle;\n",
       "    }\n",
       "\n",
       "    .dataframe tbody tr th {\n",
       "        vertical-align: top;\n",
       "    }\n",
       "\n",
       "    .dataframe thead th {\n",
       "        text-align: right;\n",
       "    }\n",
       "</style>\n",
       "<table border=\"1\" class=\"dataframe\">\n",
       "  <thead>\n",
       "    <tr style=\"text-align: right;\">\n",
       "      <th></th>\n",
       "      <th>XNM</th>\n",
       "      <th>XQM</th>\n",
       "      <th>BFZCJ</th>\n",
       "      <th>KCH</th>\n",
       "      <th>KCMC</th>\n",
       "      <th>JSGH</th>\n",
       "      <th>JSXM</th>\n",
       "    </tr>\n",
       "  </thead>\n",
       "  <tbody>\n",
       "    <tr>\n",
       "      <th>3813510</th>\n",
       "      <td>2018</td>\n",
       "      <td>3</td>\n",
       "      <td>49.0</td>\n",
       "      <td>A1630018</td>\n",
       "      <td>电力电子技术</td>\n",
       "      <td>200300056</td>\n",
       "      <td>鲁明丽</td>\n",
       "    </tr>\n",
       "    <tr>\n",
       "      <th>3813511</th>\n",
       "      <td>2018</td>\n",
       "      <td>3</td>\n",
       "      <td>26.0</td>\n",
       "      <td>A1630018</td>\n",
       "      <td>电力电子技术</td>\n",
       "      <td>200300056</td>\n",
       "      <td>鲁明丽</td>\n",
       "    </tr>\n",
       "    <tr>\n",
       "      <th>3813512</th>\n",
       "      <td>2018</td>\n",
       "      <td>3</td>\n",
       "      <td>64.0</td>\n",
       "      <td>A1630018</td>\n",
       "      <td>电力电子技术</td>\n",
       "      <td>200300056</td>\n",
       "      <td>鲁明丽</td>\n",
       "    </tr>\n",
       "    <tr>\n",
       "      <th>3813513</th>\n",
       "      <td>2018</td>\n",
       "      <td>3</td>\n",
       "      <td>45.0</td>\n",
       "      <td>A1630018</td>\n",
       "      <td>电力电子技术</td>\n",
       "      <td>200300056</td>\n",
       "      <td>鲁明丽</td>\n",
       "    </tr>\n",
       "    <tr>\n",
       "      <th>3813514</th>\n",
       "      <td>2018</td>\n",
       "      <td>3</td>\n",
       "      <td>16.0</td>\n",
       "      <td>A1630018</td>\n",
       "      <td>电力电子技术</td>\n",
       "      <td>200300056</td>\n",
       "      <td>鲁明丽</td>\n",
       "    </tr>\n",
       "  </tbody>\n",
       "</table>\n",
       "</div>"
      ],
      "text/plain": [
       "          XNM XQM  BFZCJ       KCH    KCMC       JSGH JSXM\n",
       "3813510  2018   3   49.0  A1630018  电力电子技术  200300056  鲁明丽\n",
       "3813511  2018   3   26.0  A1630018  电力电子技术  200300056  鲁明丽\n",
       "3813512  2018   3   64.0  A1630018  电力电子技术  200300056  鲁明丽\n",
       "3813513  2018   3   45.0  A1630018  电力电子技术  200300056  鲁明丽\n",
       "3813514  2018   3   16.0  A1630018  电力电子技术  200300056  鲁明丽"
      ]
     },
     "execution_count": 3,
     "metadata": {},
     "output_type": "execute_result"
    }
   ],
   "source": [
    "df_cjb_js_term.tail()"
   ]
  },
  {
   "cell_type": "code",
   "execution_count": 4,
   "metadata": {},
   "outputs": [
    {
     "name": "stdout",
     "output_type": "stream",
     "text": [
      "<class 'pandas.core.frame.DataFrame'>\n",
      "RangeIndex: 3813515 entries, 0 to 3813514\n",
      "Data columns (total 7 columns):\n",
      "XNM      object\n",
      "XQM      object\n",
      "BFZCJ    float64\n",
      "KCH      object\n",
      "KCMC     object\n",
      "JSGH     object\n",
      "JSXM     object\n",
      "dtypes: float64(1), object(6)\n",
      "memory usage: 203.7+ MB\n"
     ]
    }
   ],
   "source": [
    "df_cjb_js_term.info()"
   ]
  },
  {
   "cell_type": "markdown",
   "metadata": {},
   "source": [
    "#### 获取指定学期的数据（XNM='2018-2019'  XQM='3'）"
   ]
  },
  {
   "cell_type": "code",
   "execution_count": 5,
   "metadata": {},
   "outputs": [
    {
     "data": {
      "text/html": [
       "<div>\n",
       "<style scoped>\n",
       "    .dataframe tbody tr th:only-of-type {\n",
       "        vertical-align: middle;\n",
       "    }\n",
       "\n",
       "    .dataframe tbody tr th {\n",
       "        vertical-align: top;\n",
       "    }\n",
       "\n",
       "    .dataframe thead th {\n",
       "        text-align: right;\n",
       "    }\n",
       "</style>\n",
       "<table border=\"1\" class=\"dataframe\">\n",
       "  <thead>\n",
       "    <tr style=\"text-align: right;\">\n",
       "      <th></th>\n",
       "      <th>XNM</th>\n",
       "      <th>XQM</th>\n",
       "      <th>BFZCJ</th>\n",
       "      <th>KCH</th>\n",
       "      <th>KCMC</th>\n",
       "      <th>JSGH</th>\n",
       "      <th>JSXM</th>\n",
       "    </tr>\n",
       "  </thead>\n",
       "  <tbody>\n",
       "    <tr>\n",
       "      <th>3636592</th>\n",
       "      <td>2018</td>\n",
       "      <td>3</td>\n",
       "      <td>60.0</td>\n",
       "      <td>02300083</td>\n",
       "      <td>宏观经济学</td>\n",
       "      <td>NaN</td>\n",
       "      <td>无</td>\n",
       "    </tr>\n",
       "    <tr>\n",
       "      <th>3636593</th>\n",
       "      <td>2018</td>\n",
       "      <td>3</td>\n",
       "      <td>86.0</td>\n",
       "      <td>02300083</td>\n",
       "      <td>宏观经济学</td>\n",
       "      <td>NaN</td>\n",
       "      <td>无</td>\n",
       "    </tr>\n",
       "    <tr>\n",
       "      <th>3636594</th>\n",
       "      <td>2018</td>\n",
       "      <td>3</td>\n",
       "      <td>60.0</td>\n",
       "      <td>09100101</td>\n",
       "      <td>大学信息技术</td>\n",
       "      <td>NaN</td>\n",
       "      <td>无</td>\n",
       "    </tr>\n",
       "    <tr>\n",
       "      <th>3636595</th>\n",
       "      <td>2018</td>\n",
       "      <td>3</td>\n",
       "      <td>60.0</td>\n",
       "      <td>T1000417</td>\n",
       "      <td>大学体育3（男子篮球）</td>\n",
       "      <td>NaN</td>\n",
       "      <td>无</td>\n",
       "    </tr>\n",
       "    <tr>\n",
       "      <th>3636596</th>\n",
       "      <td>2018</td>\n",
       "      <td>3</td>\n",
       "      <td>60.0</td>\n",
       "      <td>30300003</td>\n",
       "      <td>入学教育</td>\n",
       "      <td>NaN</td>\n",
       "      <td>无</td>\n",
       "    </tr>\n",
       "  </tbody>\n",
       "</table>\n",
       "</div>"
      ],
      "text/plain": [
       "          XNM XQM  BFZCJ       KCH         KCMC JSGH JSXM\n",
       "3636592  2018   3   60.0  02300083        宏观经济学  NaN    无\n",
       "3636593  2018   3   86.0  02300083        宏观经济学  NaN    无\n",
       "3636594  2018   3   60.0  09100101       大学信息技术  NaN    无\n",
       "3636595  2018   3   60.0  T1000417  大学体育3（男子篮球）  NaN    无\n",
       "3636596  2018   3   60.0  30300003         入学教育  NaN    无"
      ]
     },
     "execution_count": 5,
     "metadata": {},
     "output_type": "execute_result"
    }
   ],
   "source": [
    "df_cjb_sinterm=df_cjb_js_term[(df_cjb_js_term.XNM=='2018') & (df_cjb_js_term.XQM=='3')]   #176923 rows × 7 columns\n",
    "df_cjb_sinterm.head()"
   ]
  },
  {
   "cell_type": "markdown",
   "metadata": {},
   "source": [
    "##### 分析某个教师的课程成绩分布"
   ]
  },
  {
   "cell_type": "markdown",
   "metadata": {},
   "source": [
    "###### 按教师姓名查询"
   ]
  },
  {
   "cell_type": "code",
   "execution_count": 6,
   "metadata": {},
   "outputs": [
    {
     "data": {
      "text/html": [
       "<div>\n",
       "<style scoped>\n",
       "    .dataframe tbody tr th:only-of-type {\n",
       "        vertical-align: middle;\n",
       "    }\n",
       "\n",
       "    .dataframe tbody tr th {\n",
       "        vertical-align: top;\n",
       "    }\n",
       "\n",
       "    .dataframe thead th {\n",
       "        text-align: right;\n",
       "    }\n",
       "</style>\n",
       "<table border=\"1\" class=\"dataframe\">\n",
       "  <thead>\n",
       "    <tr style=\"text-align: right;\">\n",
       "      <th></th>\n",
       "      <th>JSXM</th>\n",
       "      <th>KCMC</th>\n",
       "      <th>BFZCJ</th>\n",
       "      <th>XNM</th>\n",
       "      <th>XQM</th>\n",
       "      <th>KCH</th>\n",
       "      <th>JSGH</th>\n",
       "    </tr>\n",
       "  </thead>\n",
       "  <tbody>\n",
       "    <tr>\n",
       "      <th>0</th>\n",
       "      <td>Shakhrukh Madjidov</td>\n",
       "      <td>宏观经济学</td>\n",
       "      <td>78.0</td>\n",
       "      <td>1</td>\n",
       "      <td>1</td>\n",
       "      <td>1</td>\n",
       "      <td>1</td>\n",
       "    </tr>\n",
       "    <tr>\n",
       "      <th>1</th>\n",
       "      <td>Shakhrukh Madjidov</td>\n",
       "      <td>宏观经济学</td>\n",
       "      <td>78.5</td>\n",
       "      <td>1</td>\n",
       "      <td>1</td>\n",
       "      <td>1</td>\n",
       "      <td>1</td>\n",
       "    </tr>\n",
       "    <tr>\n",
       "      <th>2</th>\n",
       "      <td>Shakhrukh Madjidov</td>\n",
       "      <td>宏观经济学</td>\n",
       "      <td>79.5</td>\n",
       "      <td>1</td>\n",
       "      <td>1</td>\n",
       "      <td>1</td>\n",
       "      <td>1</td>\n",
       "    </tr>\n",
       "    <tr>\n",
       "      <th>3</th>\n",
       "      <td>Shakhrukh Madjidov</td>\n",
       "      <td>宏观经济学</td>\n",
       "      <td>81.5</td>\n",
       "      <td>1</td>\n",
       "      <td>1</td>\n",
       "      <td>1</td>\n",
       "      <td>1</td>\n",
       "    </tr>\n",
       "    <tr>\n",
       "      <th>4</th>\n",
       "      <td>Shakhrukh Madjidov</td>\n",
       "      <td>宏观经济学</td>\n",
       "      <td>82.0</td>\n",
       "      <td>1</td>\n",
       "      <td>1</td>\n",
       "      <td>1</td>\n",
       "      <td>1</td>\n",
       "    </tr>\n",
       "  </tbody>\n",
       "</table>\n",
       "</div>"
      ],
      "text/plain": [
       "                 JSXM   KCMC  BFZCJ  XNM  XQM  KCH  JSGH\n",
       "0  Shakhrukh Madjidov  宏观经济学   78.0    1    1    1     1\n",
       "1  Shakhrukh Madjidov  宏观经济学   78.5    1    1    1     1\n",
       "2  Shakhrukh Madjidov  宏观经济学   79.5    1    1    1     1\n",
       "3  Shakhrukh Madjidov  宏观经济学   81.5    1    1    1     1\n",
       "4  Shakhrukh Madjidov  宏观经济学   82.0    1    1    1     1"
      ]
     },
     "execution_count": 6,
     "metadata": {},
     "output_type": "execute_result"
    }
   ],
   "source": [
    "#### 1、统计每门课程的成绩人数\n",
    "df_cjb_group=df_cjb_sinterm.groupby(['JSXM','KCMC','BFZCJ']).count()\n",
    "df_cjb_group.reset_index(inplace=True)\n",
    "df_cjb_group.head()"
   ]
  },
  {
   "cell_type": "code",
   "execution_count": 9,
   "metadata": {
    "collapsed": true
   },
   "outputs": [],
   "source": [
    "jsxm='高燕'   #教师姓名：沈健/秦志刚/赵根林/高燕/宋东兴/陈希棠/邹永林/周思林/张根华/徐惠钢/殷旭东/钱斌\n",
    "df_cjb_single=df_cjb_group[df_cjb_group.JSXM==jsxm]\n",
    "df_cjb_single.head()\n",
    "df_cjb_single.to_csv('data/gaoyan.csv',index=False)"
   ]
  },
  {
   "cell_type": "code",
   "execution_count": 130,
   "metadata": {},
   "outputs": [
    {
     "data": {
      "image/png": "[encoded data removed]",
      "text/plain": [
       "<Figure size 400x1000 with 1 Axes>"
      ]
     },
     "metadata": {},
     "output_type": "display_data"
    }
   ],
   "source": [
    "\n",
    "len1=len(df_cjb_single.groupby('KCMC').count())\n",
    "if (len1==0):\n",
    "    len1=4\n",
    "\n",
    "#绘制图像    \n",
    "point_size=80     #图像点的大小\n",
    "\n",
    "df_cjb_single.insert(0,'SCALE',df_cjb_single.KCH*point_size)  #按比例显示人数\n",
    "#df_jscjb_single.eval('KCH=KCH*23',inplace=True)\n",
    "plt.figure(figsize=[2*len1,10])\n",
    "plt.grid()\n",
    "\n",
    "plt.scatter('KCMC','BFZCJ','SCALE',data=df_cjb_single)\n",
    "plt.plot([-1,len1],[60,60],'r-.')\n",
    "plt.xticks(rotation=30)\n",
    "plt.yticks(range(0,101,5))\n",
    "\n",
    "plt.title(\"单个教师单学期全部课程成绩分析\")\n",
    "plt.xlabel('课程名称')\n",
    "plt.ylabel('课程成绩')\n",
    "\n",
    "pic_file_name='img/'+jsxm+'任课成绩分析.png'\n",
    "#plt.savefig(pic_file_name)\n",
    "plt.show()"
   ]
  },
  {
   "cell_type": "markdown",
   "metadata": {},
   "source": [
    "#### 成绩分析箱图"
   ]
  },
  {
   "cell_type": "code",
   "execution_count": 204,
   "metadata": {},
   "outputs": [
    {
     "data": {
      "text/html": [
       "<div>\n",
       "<style scoped>\n",
       "    .dataframe tbody tr th:only-of-type {\n",
       "        vertical-align: middle;\n",
       "    }\n",
       "\n",
       "    .dataframe tbody tr th {\n",
       "        vertical-align: top;\n",
       "    }\n",
       "\n",
       "    .dataframe thead th {\n",
       "        text-align: right;\n",
       "    }\n",
       "</style>\n",
       "<table border=\"1\" class=\"dataframe\">\n",
       "  <thead>\n",
       "    <tr style=\"text-align: right;\">\n",
       "      <th></th>\n",
       "      <th>JSXM</th>\n",
       "      <th>KCMC</th>\n",
       "      <th>BFZCJ</th>\n",
       "      <th>XNM</th>\n",
       "      <th>XQM</th>\n",
       "      <th>KCH</th>\n",
       "      <th>JSGH</th>\n",
       "      <th>JG_ID</th>\n",
       "    </tr>\n",
       "  </thead>\n",
       "  <tbody>\n",
       "    <tr>\n",
       "      <th>27971</th>\n",
       "      <td>李春红</td>\n",
       "      <td>文学概论</td>\n",
       "      <td>93.0</td>\n",
       "      <td>2</td>\n",
       "      <td>2</td>\n",
       "      <td>2</td>\n",
       "      <td>2</td>\n",
       "      <td>2</td>\n",
       "    </tr>\n",
       "    <tr>\n",
       "      <th>27972</th>\n",
       "      <td>李春红</td>\n",
       "      <td>文学概论</td>\n",
       "      <td>93.5</td>\n",
       "      <td>2</td>\n",
       "      <td>2</td>\n",
       "      <td>2</td>\n",
       "      <td>2</td>\n",
       "      <td>2</td>\n",
       "    </tr>\n",
       "    <tr>\n",
       "      <th>27973</th>\n",
       "      <td>李春红</td>\n",
       "      <td>文学概论</td>\n",
       "      <td>95.0</td>\n",
       "      <td>1</td>\n",
       "      <td>1</td>\n",
       "      <td>1</td>\n",
       "      <td>1</td>\n",
       "      <td>1</td>\n",
       "    </tr>\n",
       "    <tr>\n",
       "      <th>27974</th>\n",
       "      <td>李春红</td>\n",
       "      <td>文学概论</td>\n",
       "      <td>95.5</td>\n",
       "      <td>2</td>\n",
       "      <td>2</td>\n",
       "      <td>2</td>\n",
       "      <td>2</td>\n",
       "      <td>2</td>\n",
       "    </tr>\n",
       "    <tr>\n",
       "      <th>27975</th>\n",
       "      <td>李春红</td>\n",
       "      <td>文学概论</td>\n",
       "      <td>96.0</td>\n",
       "      <td>1</td>\n",
       "      <td>1</td>\n",
       "      <td>1</td>\n",
       "      <td>1</td>\n",
       "      <td>1</td>\n",
       "    </tr>\n",
       "  </tbody>\n",
       "</table>\n",
       "</div>"
      ],
      "text/plain": [
       "      JSXM  KCMC  BFZCJ  XNM  XQM  KCH  JSGH  JG_ID\n",
       "27971  李春红  文学概论   93.0    2    2    2     2      2\n",
       "27972  李春红  文学概论   93.5    2    2    2     2      2\n",
       "27973  李春红  文学概论   95.0    1    1    1     1      1\n",
       "27974  李春红  文学概论   95.5    2    2    2     2      2\n",
       "27975  李春红  文学概论   96.0    1    1    1     1      1"
      ]
     },
     "execution_count": 204,
     "metadata": {},
     "output_type": "execute_result"
    }
   ],
   "source": [
    "jsxm='李春红'   #教师姓名：沈健/秦志刚/赵根林/高燕/宋东兴/陈希棠/邹永林/周思林/张根华/徐惠钢/殷旭东/钱斌\n",
    "#李春红/王蓓蓓\n",
    "#jsxm='宋东兴'   #出错\n",
    "df_cjb_single=df_cjb_group[df_cjb_group.JSXM==jsxm]\n",
    "df_cjb_single.head()\n",
    "df_cjb_single.tail()\n"
   ]
  },
  {
   "cell_type": "code",
   "execution_count": 205,
   "metadata": {
    "collapsed": true
   },
   "outputs": [],
   "source": [
    "list_labels=df_cjb_single.groupby('KCMC').count().index.tolist()\n",
    "#print(list_labels)\n",
    "list_cjb_show=[]\n",
    "for kcmc in list_labels:\n",
    "    #print(kcmc)\n",
    "    array_cjb=df_cjb_single[df_cjb_single.KCMC==kcmc].BFZCJ.to_numpy()\n",
    "    array_cjb.shape=(-1,1)    \n",
    "    list_cjb_show.append(array_cjb)\n"
   ]
  },
  {
   "cell_type": "code",
   "execution_count": 206,
   "metadata": {},
   "outputs": [
    {
     "name": "stdout",
     "output_type": "stream",
     "text": [
      "2\n"
     ]
    },
    {
     "data": {
      "image/png": "[encoded data removed]",
      "text/plain": [
       "<Figure size 900x900 with 1 Axes>"
      ]
     },
     "metadata": {},
     "output_type": "display_data"
    }
   ],
   "source": [
    "len1=len(list_labels)\n",
    "print(len1)\n",
    "red_square = dict(markerfacecolor='r', marker='s')\n",
    "if len1==0:\n",
    "    pass\n",
    "elif len1==1:\n",
    "    data_show=list_cjb_show[0]\n",
    "else :\n",
    "    data_show=list_cjb_show\n",
    "    \n",
    "#print(data_show)\n",
    "#dic_cjb_single=plt.boxplot(data_show)\n",
    "\n",
    "dic_cjb_single=plt.boxplot(data_show,\n",
    "                           meanline=True,\n",
    "                           showmeans=True,#显示平均分线\n",
    "                           patch_artist=True,  # fill with color\n",
    "                           labels=list_labels,  # will be used to label x-ticks\n",
    "                           flierprops=red_square) \n",
    "# fill with colors\n",
    "colors = ['pink', 'lightblue', 'lightgreen']\n",
    "for patch, color in zip(dic_cjb_single['boxes'], colors):\n",
    "    patch.set_facecolor(color) \n",
    "\n",
    "plt.grid()\n",
    "plt.plot([-1,len1+1],[60,60],'r-.')\n",
    "plt.xticks(rotation=30)\n",
    "plt.yticks(range(0,101,10))\n",
    "\n",
    "plt.title(\"单个教师单学期全部课程成绩分析\")\n",
    "plt.xlabel('课程名称')\n",
    "plt.ylabel('课程成绩')\n",
    "\n",
    "pic_file_name='img/'+jsxm+'任课成绩分析.png'\n",
    "#plt.savefig(pic_file_name)\n",
    "plt.show()"
   ]
  },
  {
   "cell_type": "markdown",
   "metadata": {},
   "source": [
    "#### 糖葫芦图+箱图"
   ]
  },
  {
   "cell_type": "code",
   "execution_count": 59,
   "metadata": {},
   "outputs": [
    {
     "data": {
      "text/html": [
       "<div>\n",
       "<style scoped>\n",
       "    .dataframe tbody tr th:only-of-type {\n",
       "        vertical-align: middle;\n",
       "    }\n",
       "\n",
       "    .dataframe tbody tr th {\n",
       "        vertical-align: top;\n",
       "    }\n",
       "\n",
       "    .dataframe thead th {\n",
       "        text-align: right;\n",
       "    }\n",
       "</style>\n",
       "<table border=\"1\" class=\"dataframe\">\n",
       "  <thead>\n",
       "    <tr style=\"text-align: right;\">\n",
       "      <th></th>\n",
       "      <th>JSXM</th>\n",
       "      <th>KCMC</th>\n",
       "      <th>BFZCJ</th>\n",
       "      <th>XNM</th>\n",
       "      <th>XQM</th>\n",
       "      <th>KCH</th>\n",
       "      <th>JSGH</th>\n",
       "    </tr>\n",
       "  </thead>\n",
       "  <tbody>\n",
       "    <tr>\n",
       "      <th>0</th>\n",
       "      <td>Shakhrukh Madjidov</td>\n",
       "      <td>宏观经济学</td>\n",
       "      <td>78.0</td>\n",
       "      <td>1</td>\n",
       "      <td>1</td>\n",
       "      <td>1</td>\n",
       "      <td>1</td>\n",
       "    </tr>\n",
       "    <tr>\n",
       "      <th>1</th>\n",
       "      <td>Shakhrukh Madjidov</td>\n",
       "      <td>宏观经济学</td>\n",
       "      <td>78.5</td>\n",
       "      <td>1</td>\n",
       "      <td>1</td>\n",
       "      <td>1</td>\n",
       "      <td>1</td>\n",
       "    </tr>\n",
       "    <tr>\n",
       "      <th>2</th>\n",
       "      <td>Shakhrukh Madjidov</td>\n",
       "      <td>宏观经济学</td>\n",
       "      <td>79.5</td>\n",
       "      <td>1</td>\n",
       "      <td>1</td>\n",
       "      <td>1</td>\n",
       "      <td>1</td>\n",
       "    </tr>\n",
       "    <tr>\n",
       "      <th>3</th>\n",
       "      <td>Shakhrukh Madjidov</td>\n",
       "      <td>宏观经济学</td>\n",
       "      <td>81.5</td>\n",
       "      <td>1</td>\n",
       "      <td>1</td>\n",
       "      <td>1</td>\n",
       "      <td>1</td>\n",
       "    </tr>\n",
       "    <tr>\n",
       "      <th>4</th>\n",
       "      <td>Shakhrukh Madjidov</td>\n",
       "      <td>宏观经济学</td>\n",
       "      <td>82.0</td>\n",
       "      <td>1</td>\n",
       "      <td>1</td>\n",
       "      <td>1</td>\n",
       "      <td>1</td>\n",
       "    </tr>\n",
       "  </tbody>\n",
       "</table>\n",
       "</div>"
      ],
      "text/plain": [
       "                 JSXM   KCMC  BFZCJ  XNM  XQM  KCH  JSGH\n",
       "0  Shakhrukh Madjidov  宏观经济学   78.0    1    1    1     1\n",
       "1  Shakhrukh Madjidov  宏观经济学   78.5    1    1    1     1\n",
       "2  Shakhrukh Madjidov  宏观经济学   79.5    1    1    1     1\n",
       "3  Shakhrukh Madjidov  宏观经济学   81.5    1    1    1     1\n",
       "4  Shakhrukh Madjidov  宏观经济学   82.0    1    1    1     1"
      ]
     },
     "execution_count": 59,
     "metadata": {},
     "output_type": "execute_result"
    }
   ],
   "source": [
    "#### 1、统计每门课程的成绩人数\n",
    "df_cjb_group=df_cjb_sinterm.groupby(['JSXM','KCMC','BFZCJ']).count()\n",
    "df_cjb_group.reset_index(inplace=True)\n",
    "df_cjb_group.head()"
   ]
  },
  {
   "cell_type": "code",
   "execution_count": 74,
   "metadata": {},
   "outputs": [
    {
     "data": {
      "image/png": "[encoded data removed]",
      "text/plain": [
       "<Figure size 900x900 with 2 Axes>"
      ]
     },
     "metadata": {},
     "output_type": "display_data"
    }
   ],
   "source": [
    "jsxm='宋东兴'   #教师姓名：沈健/秦志刚/赵根林/高燕/宋东兴/陈希棠/邹永林/周思林/张根华/徐惠钢/殷旭东/钱斌\n",
    "df_cjb_single=df_cjb_group[df_cjb_group.JSXM==jsxm]\n",
    "len1=len(df_cjb_single.groupby('KCMC').count())\n",
    "#if (len1==0):\n",
    "#    len1=4\n",
    "\n",
    "fig,(ax1,ax2)=plt.subplots(2,1)\n",
    "fig.suptitle(\"单个教师单学期全部课程成绩分析\")\n",
    "#绘制糖葫芦图\n",
    "point_size=80     #图像点的大小\n",
    "df_cjb_single.insert(0,'SCALE',df_cjb_single.KCH*point_size)  #增加按比例显示人数的列\n",
    "\n",
    "#plt.figure(figsize=[2*len1,10])\n",
    "ax1.grid()\n",
    "\n",
    "ax1.scatter('KCMC','BFZCJ','SCALE',data=df_cjb_single)\n",
    "ax1.plot([-1,len1],[60,60],'r-.')\n",
    "#plt.xticks(rotation=30)\n",
    "plt.yticks(range(0,101,5))\n",
    "\n",
    "#ax1.set_title(\"单个教师单学期全部课程成绩分析\")\n",
    "plt.xlabel('课程名称')\n",
    "plt.ylabel('课程成绩')\n",
    "#--------------------------------\n",
    "list_labels=df_cjb_single.groupby('KCMC').count().index.tolist()   #获取课程名称\n",
    "#生成箱图数据\n",
    "list_cjb_show=[]\n",
    "for kcmc in list_labels:\n",
    "    #print(kcmc)\n",
    "    array_cjb=np.array([df_cjb_single[df_cjb_single.KCMC==kcmc].BFZCJ])\n",
    "    array_cjb.shape=(-1,1)    \n",
    "    list_cjb_show.append(array_cjb)\n",
    "\n",
    "ax2.grid()\n",
    "red_square = dict(markerfacecolor='r', marker='s')\n",
    "if len1==0:\n",
    "    pass\n",
    "elif len1==1:\n",
    "    show_data=list_cjb_show[0]\n",
    "else :\n",
    "    show_data=list_cjb_show\n",
    "    \n",
    "dic_cjb_single=ax2.boxplot(show_data,\n",
    "                           meanline=True,\n",
    "                           showmeans=True,#显示平均分线\n",
    "                           patch_artist=True,  # fill with color\n",
    "                           labels=list_labels,  # will be used to label x-ticks\n",
    "                           flierprops=red_square) \n",
    " # fill with colors\n",
    "colors = ['yellow','pink', 'lightblue', 'lightgreen','lightyellow']\n",
    "for patch, color in zip(dic_cjb_single['boxes'], colors):\n",
    "    patch.set_facecolor(color)    \n",
    "\n",
    "ax2.plot([-1,len1+1],[60,60],'r-.')\n",
    "#plt.xticks(rotation=30)\n",
    "plt.yticks(range(0,101,10))\n",
    "\n",
    "#ax2.set_title(\"单个教师单学期全部课程成绩分析\")\n",
    "plt.xlabel('课程名称')\n",
    "plt.ylabel('课程成绩')\n",
    "\n",
    "pic_file_name='img/'+jsxm+'任课成绩分析.png'\n",
    "#plt.savefig(pic_file_name)\n",
    "plt.show() \n",
    "\n",
    "   \n",
    "\n"
   ]
  },
  {
   "cell_type": "code",
   "execution_count": null,
   "metadata": {
    "collapsed": true
   },
   "outputs": [],
   "source": []
  },
  {
   "cell_type": "code",
   "execution_count": null,
   "metadata": {
    "collapsed": true
   },
   "outputs": [],
   "source": []
  },
  {
   "cell_type": "markdown",
   "metadata": {},
   "source": [
    "###### 按教师工号查询"
   ]
  },
  {
   "cell_type": "code",
   "execution_count": 55,
   "metadata": {},
   "outputs": [
    {
     "data": {
      "text/html": [
       "<div>\n",
       "<style scoped>\n",
       "    .dataframe tbody tr th:only-of-type {\n",
       "        vertical-align: middle;\n",
       "    }\n",
       "\n",
       "    .dataframe tbody tr th {\n",
       "        vertical-align: top;\n",
       "    }\n",
       "\n",
       "    .dataframe thead th {\n",
       "        text-align: right;\n",
       "    }\n",
       "</style>\n",
       "<table border=\"1\" class=\"dataframe\">\n",
       "  <thead>\n",
       "    <tr style=\"text-align: right;\">\n",
       "      <th></th>\n",
       "      <th>JSGH</th>\n",
       "      <th>KCMC</th>\n",
       "      <th>BFZCJ</th>\n",
       "      <th>XNM</th>\n",
       "      <th>XQM</th>\n",
       "      <th>KCH</th>\n",
       "      <th>JSXM</th>\n",
       "    </tr>\n",
       "  </thead>\n",
       "  <tbody>\n",
       "    <tr>\n",
       "      <th>0</th>\n",
       "      <td>199000005</td>\n",
       "      <td>管理学</td>\n",
       "      <td>0.0</td>\n",
       "      <td>1</td>\n",
       "      <td>1</td>\n",
       "      <td>1</td>\n",
       "      <td>1</td>\n",
       "    </tr>\n",
       "    <tr>\n",
       "      <th>1</th>\n",
       "      <td>199000005</td>\n",
       "      <td>管理学</td>\n",
       "      <td>65.5</td>\n",
       "      <td>1</td>\n",
       "      <td>1</td>\n",
       "      <td>1</td>\n",
       "      <td>1</td>\n",
       "    </tr>\n",
       "    <tr>\n",
       "      <th>2</th>\n",
       "      <td>199000005</td>\n",
       "      <td>管理学</td>\n",
       "      <td>75.5</td>\n",
       "      <td>1</td>\n",
       "      <td>1</td>\n",
       "      <td>1</td>\n",
       "      <td>1</td>\n",
       "    </tr>\n",
       "    <tr>\n",
       "      <th>3</th>\n",
       "      <td>199000005</td>\n",
       "      <td>管理学</td>\n",
       "      <td>76.0</td>\n",
       "      <td>3</td>\n",
       "      <td>3</td>\n",
       "      <td>3</td>\n",
       "      <td>3</td>\n",
       "    </tr>\n",
       "    <tr>\n",
       "      <th>4</th>\n",
       "      <td>199000005</td>\n",
       "      <td>管理学</td>\n",
       "      <td>76.5</td>\n",
       "      <td>2</td>\n",
       "      <td>2</td>\n",
       "      <td>2</td>\n",
       "      <td>2</td>\n",
       "    </tr>\n",
       "  </tbody>\n",
       "</table>\n",
       "</div>"
      ],
      "text/plain": [
       "        JSGH KCMC  BFZCJ  XNM  XQM  KCH  JSXM\n",
       "0  199000005  管理学    0.0    1    1    1     1\n",
       "1  199000005  管理学   65.5    1    1    1     1\n",
       "2  199000005  管理学   75.5    1    1    1     1\n",
       "3  199000005  管理学   76.0    3    3    3     3\n",
       "4  199000005  管理学   76.5    2    2    2     2"
      ]
     },
     "execution_count": 55,
     "metadata": {},
     "output_type": "execute_result"
    }
   ],
   "source": [
    "#### 1、统计每门课程的成绩人数\n",
    "df_cjb_group=df_cjb_sinterm.groupby(['JSGH','KCMC','BFZCJ']).count()\n",
    "df_cjb_group.reset_index(inplace=True)\n",
    "df_cjb_group.head()"
   ]
  },
  {
   "cell_type": "code",
   "execution_count": 14,
   "metadata": {},
   "outputs": [
    {
     "name": "stderr",
     "output_type": "stream",
     "text": [
      "d:\\ProgramData\\Anaconda3\\lib\\site-packages\\pandas\\core\\ops.py:1649: FutureWarning: elementwise comparison failed; returning scalar instead, but in the future will perform elementwise comparison\n",
      "  result = method(y)\n"
     ]
    },
    {
     "data": {
      "image/png": "[encoded data removed]",
      "text/plain": [
       "<Figure size 576x720 with 1 Axes>"
      ]
     },
     "metadata": {},
     "output_type": "display_data"
    }
   ],
   "source": [
    "jsgh='201600011'   #教师姓名：沈健/秦志刚/赵根林/高燕/宋东兴/陈希棠/邹永林/周思林/张根华/徐惠钢/殷旭东/钱斌\n",
    "df_cjb_single=df_cjb_group[df_cjb_group.JSGH==jsgh]\n",
    "df_cjb_single.head()\n",
    "\n",
    "len1=len(df_cjb_single.groupby('KCMC').count())\n",
    "if (len1==0):\n",
    "    len1=4\n",
    "\n",
    "#绘制图像    \n",
    "point_size=80     #图像点的大小\n",
    "\n",
    "df_cjb_single.insert(0,'SCALE',df_cjb_single.KCH*point_size)  #按比例显示人数\n",
    "#df_jscjb_single.eval('KCH=KCH*23',inplace=True)\n",
    "plt.figure(figsize=[2*len1,10])\n",
    "plt.grid()\n",
    "\n",
    "plt.scatter('KCMC','BFZCJ','SCALE',data=df_cjb_single)\n",
    "plt.plot([-1,len1],[60,60],'r-.')\n",
    "plt.xticks(rotation=30)\n",
    "plt.yticks(range(0,101,5))\n",
    "\n",
    "plt.title(\"单个教师单学期全部课程成绩分析\")\n",
    "plt.xlabel('课程名称')\n",
    "plt.ylabel('课程成绩')\n",
    "\n",
    "pic_file_name='img/'+jsxm+'任课成绩分析.png'\n",
    "#plt.savefig(pic_file_name)\n",
    "plt.show()"
   ]
  },
  {
   "cell_type": "markdown",
   "metadata": {},
   "source": [
    "### 按教师所在学院统一导出教师个人的指定单学期成绩分析"
   ]
  },
  {
   "cell_type": "markdown",
   "metadata": {},
   "source": [
    "###### 1.载入教师基本信息表"
   ]
  },
  {
   "cell_type": "code",
   "execution_count": 208,
   "metadata": {
    "collapsed": true
   },
   "outputs": [],
   "source": [
    "file_name_js='data/jsjbxxb20190214.csv'\n",
    "df_teacher=pd.read_csv(file_name_js,usecols=['JGH','JG_ID'])"
   ]
  },
  {
   "cell_type": "code",
   "execution_count": 209,
   "metadata": {},
   "outputs": [
    {
     "data": {
      "text/html": [
       "<div>\n",
       "<style scoped>\n",
       "    .dataframe tbody tr th:only-of-type {\n",
       "        vertical-align: middle;\n",
       "    }\n",
       "\n",
       "    .dataframe tbody tr th {\n",
       "        vertical-align: top;\n",
       "    }\n",
       "\n",
       "    .dataframe thead th {\n",
       "        text-align: right;\n",
       "    }\n",
       "</style>\n",
       "<table border=\"1\" class=\"dataframe\">\n",
       "  <thead>\n",
       "    <tr style=\"text-align: right;\">\n",
       "      <th></th>\n",
       "      <th>JGH</th>\n",
       "      <th>JG_ID</th>\n",
       "    </tr>\n",
       "  </thead>\n",
       "  <tbody>\n",
       "    <tr>\n",
       "      <th>0</th>\n",
       "      <td>200800006</td>\n",
       "      <td>02</td>\n",
       "    </tr>\n",
       "    <tr>\n",
       "      <th>1</th>\n",
       "      <td>200800044</td>\n",
       "      <td>99</td>\n",
       "    </tr>\n",
       "    <tr>\n",
       "      <th>2</th>\n",
       "      <td>200800047</td>\n",
       "      <td>04</td>\n",
       "    </tr>\n",
       "    <tr>\n",
       "      <th>3</th>\n",
       "      <td>200800049</td>\n",
       "      <td>99</td>\n",
       "    </tr>\n",
       "    <tr>\n",
       "      <th>4</th>\n",
       "      <td>200800090</td>\n",
       "      <td>01</td>\n",
       "    </tr>\n",
       "  </tbody>\n",
       "</table>\n",
       "</div>"
      ],
      "text/plain": [
       "         JGH JG_ID\n",
       "0  200800006    02\n",
       "1  200800044    99\n",
       "2  200800047    04\n",
       "3  200800049    99\n",
       "4  200800090    01"
      ]
     },
     "execution_count": 209,
     "metadata": {},
     "output_type": "execute_result"
    }
   ],
   "source": [
    "df_teacher.head()"
   ]
  },
  {
   "cell_type": "code",
   "execution_count": 210,
   "metadata": {},
   "outputs": [
    {
     "name": "stdout",
     "output_type": "stream",
     "text": [
      "<class 'pandas.core.frame.DataFrame'>\n",
      "RangeIndex: 3132 entries, 0 to 3131\n",
      "Data columns (total 2 columns):\n",
      "JGH      3132 non-null object\n",
      "JG_ID    2787 non-null object\n",
      "dtypes: object(2)\n",
      "memory usage: 49.0+ KB\n"
     ]
    }
   ],
   "source": [
    "df_teacher.info()"
   ]
  },
  {
   "cell_type": "code",
   "execution_count": 211,
   "metadata": {},
   "outputs": [
    {
     "data": {
      "text/html": [
       "<div>\n",
       "<style scoped>\n",
       "    .dataframe tbody tr th:only-of-type {\n",
       "        vertical-align: middle;\n",
       "    }\n",
       "\n",
       "    .dataframe tbody tr th {\n",
       "        vertical-align: top;\n",
       "    }\n",
       "\n",
       "    .dataframe thead th {\n",
       "        text-align: right;\n",
       "    }\n",
       "</style>\n",
       "<table border=\"1\" class=\"dataframe\">\n",
       "  <thead>\n",
       "    <tr style=\"text-align: right;\">\n",
       "      <th></th>\n",
       "      <th>XNM</th>\n",
       "      <th>XQM</th>\n",
       "      <th>BFZCJ</th>\n",
       "      <th>KCH</th>\n",
       "      <th>KCMC</th>\n",
       "      <th>JSGH</th>\n",
       "      <th>JSXM</th>\n",
       "      <th>JG_ID</th>\n",
       "    </tr>\n",
       "  </thead>\n",
       "  <tbody>\n",
       "    <tr>\n",
       "      <th>3636592</th>\n",
       "      <td>2018</td>\n",
       "      <td>3</td>\n",
       "      <td>60.0</td>\n",
       "      <td>02300083</td>\n",
       "      <td>宏观经济学</td>\n",
       "      <td>NaN</td>\n",
       "      <td>无</td>\n",
       "      <td>NaN</td>\n",
       "    </tr>\n",
       "    <tr>\n",
       "      <th>3636593</th>\n",
       "      <td>2018</td>\n",
       "      <td>3</td>\n",
       "      <td>86.0</td>\n",
       "      <td>02300083</td>\n",
       "      <td>宏观经济学</td>\n",
       "      <td>NaN</td>\n",
       "      <td>无</td>\n",
       "      <td>NaN</td>\n",
       "    </tr>\n",
       "    <tr>\n",
       "      <th>3636594</th>\n",
       "      <td>2018</td>\n",
       "      <td>3</td>\n",
       "      <td>60.0</td>\n",
       "      <td>09100101</td>\n",
       "      <td>大学信息技术</td>\n",
       "      <td>NaN</td>\n",
       "      <td>无</td>\n",
       "      <td>NaN</td>\n",
       "    </tr>\n",
       "    <tr>\n",
       "      <th>3636595</th>\n",
       "      <td>2018</td>\n",
       "      <td>3</td>\n",
       "      <td>60.0</td>\n",
       "      <td>T1000417</td>\n",
       "      <td>大学体育3（男子篮球）</td>\n",
       "      <td>NaN</td>\n",
       "      <td>无</td>\n",
       "      <td>NaN</td>\n",
       "    </tr>\n",
       "    <tr>\n",
       "      <th>3636596</th>\n",
       "      <td>2018</td>\n",
       "      <td>3</td>\n",
       "      <td>60.0</td>\n",
       "      <td>30300003</td>\n",
       "      <td>入学教育</td>\n",
       "      <td>NaN</td>\n",
       "      <td>无</td>\n",
       "      <td>NaN</td>\n",
       "    </tr>\n",
       "  </tbody>\n",
       "</table>\n",
       "</div>"
      ],
      "text/plain": [
       "          XNM XQM  BFZCJ       KCH         KCMC JSGH JSXM JG_ID\n",
       "3636592  2018   3   60.0  02300083        宏观经济学  NaN    无   NaN\n",
       "3636593  2018   3   86.0  02300083        宏观经济学  NaN    无   NaN\n",
       "3636594  2018   3   60.0  09100101       大学信息技术  NaN    无   NaN\n",
       "3636595  2018   3   60.0  T1000417  大学体育3（男子篮球）  NaN    无   NaN\n",
       "3636596  2018   3   60.0  30300003         入学教育  NaN    无   NaN"
      ]
     },
     "execution_count": 211,
     "metadata": {},
     "output_type": "execute_result"
    }
   ],
   "source": [
    "df_cjb_sinterm.head()"
   ]
  },
  {
   "cell_type": "markdown",
   "metadata": {},
   "source": [
    "###### 2.在成绩库中加入教师部门代码"
   ]
  },
  {
   "cell_type": "code",
   "execution_count": 212,
   "metadata": {},
   "outputs": [
    {
     "ename": "ValueError",
     "evalue": "columns overlap but no suffix specified: Index(['JG_ID'], dtype='object')",
     "output_type": "error",
     "traceback": [
      "\u001b[1;31m---------------------------------------------------------------------------\u001b[0m",
      "\u001b[1;31mValueError\u001b[0m                                Traceback (most recent call last)",
      "\u001b[1;32m<ipython-input-212-876b35cbf913>\u001b[0m in \u001b[0;36m<module>\u001b[1;34m()\u001b[0m\n\u001b[1;32m----> 1\u001b[1;33m \u001b[0mdf_cjb_sinterm\u001b[0m\u001b[1;33m=\u001b[0m\u001b[0mdf_cjb_sinterm\u001b[0m\u001b[1;33m.\u001b[0m\u001b[0mjoin\u001b[0m\u001b[1;33m(\u001b[0m\u001b[0mdf_teacher\u001b[0m\u001b[1;33m.\u001b[0m\u001b[0mset_index\u001b[0m\u001b[1;33m(\u001b[0m\u001b[1;34m'JGH'\u001b[0m\u001b[1;33m)\u001b[0m\u001b[1;33m,\u001b[0m\u001b[0mon\u001b[0m\u001b[1;33m=\u001b[0m\u001b[1;34m'JSGH'\u001b[0m\u001b[1;33m)\u001b[0m\u001b[1;33m\u001b[0m\u001b[0m\n\u001b[0m\u001b[0;32m      2\u001b[0m \u001b[0mdf_cjb_sinterm\u001b[0m\u001b[1;33m.\u001b[0m\u001b[0mhead\u001b[0m\u001b[1;33m(\u001b[0m\u001b[1;33m)\u001b[0m\u001b[1;33m\u001b[0m\u001b[0m\n",
      "\u001b[1;32md:\\ProgramData\\Anaconda3\\lib\\site-packages\\pandas\\core\\frame.py\u001b[0m in \u001b[0;36mjoin\u001b[1;34m(self, other, on, how, lsuffix, rsuffix, sort)\u001b[0m\n\u001b[0;32m   6813\u001b[0m         \u001b[1;31m# For SparseDataFrame's benefit\u001b[0m\u001b[1;33m\u001b[0m\u001b[1;33m\u001b[0m\u001b[0m\n\u001b[0;32m   6814\u001b[0m         return self._join_compat(other, on=on, how=how, lsuffix=lsuffix,\n\u001b[1;32m-> 6815\u001b[1;33m                                  rsuffix=rsuffix, sort=sort)\n\u001b[0m\u001b[0;32m   6816\u001b[0m \u001b[1;33m\u001b[0m\u001b[0m\n\u001b[0;32m   6817\u001b[0m     def _join_compat(self, other, on=None, how='left', lsuffix='', rsuffix='',\n",
      "\u001b[1;32md:\\ProgramData\\Anaconda3\\lib\\site-packages\\pandas\\core\\frame.py\u001b[0m in \u001b[0;36m_join_compat\u001b[1;34m(self, other, on, how, lsuffix, rsuffix, sort)\u001b[0m\n\u001b[0;32m   6828\u001b[0m             return merge(self, other, left_on=on, how=how,\n\u001b[0;32m   6829\u001b[0m                          \u001b[0mleft_index\u001b[0m\u001b[1;33m=\u001b[0m\u001b[0mon\u001b[0m \u001b[1;32mis\u001b[0m \u001b[1;32mNone\u001b[0m\u001b[1;33m,\u001b[0m \u001b[0mright_index\u001b[0m\u001b[1;33m=\u001b[0m\u001b[1;32mTrue\u001b[0m\u001b[1;33m,\u001b[0m\u001b[1;33m\u001b[0m\u001b[0m\n\u001b[1;32m-> 6830\u001b[1;33m                          suffixes=(lsuffix, rsuffix), sort=sort)\n\u001b[0m\u001b[0;32m   6831\u001b[0m         \u001b[1;32melse\u001b[0m\u001b[1;33m:\u001b[0m\u001b[1;33m\u001b[0m\u001b[0m\n\u001b[0;32m   6832\u001b[0m             \u001b[1;32mif\u001b[0m \u001b[0mon\u001b[0m \u001b[1;32mis\u001b[0m \u001b[1;32mnot\u001b[0m \u001b[1;32mNone\u001b[0m\u001b[1;33m:\u001b[0m\u001b[1;33m\u001b[0m\u001b[0m\n",
      "\u001b[1;32md:\\ProgramData\\Anaconda3\\lib\\site-packages\\pandas\\core\\reshape\\merge.py\u001b[0m in \u001b[0;36mmerge\u001b[1;34m(left, right, how, on, left_on, right_on, left_index, right_index, sort, suffixes, copy, indicator, validate)\u001b[0m\n\u001b[0;32m     46\u001b[0m                          \u001b[0mcopy\u001b[0m\u001b[1;33m=\u001b[0m\u001b[0mcopy\u001b[0m\u001b[1;33m,\u001b[0m \u001b[0mindicator\u001b[0m\u001b[1;33m=\u001b[0m\u001b[0mindicator\u001b[0m\u001b[1;33m,\u001b[0m\u001b[1;33m\u001b[0m\u001b[0m\n\u001b[0;32m     47\u001b[0m                          validate=validate)\n\u001b[1;32m---> 48\u001b[1;33m     \u001b[1;32mreturn\u001b[0m \u001b[0mop\u001b[0m\u001b[1;33m.\u001b[0m\u001b[0mget_result\u001b[0m\u001b[1;33m(\u001b[0m\u001b[1;33m)\u001b[0m\u001b[1;33m\u001b[0m\u001b[0m\n\u001b[0m\u001b[0;32m     49\u001b[0m \u001b[1;33m\u001b[0m\u001b[0m\n\u001b[0;32m     50\u001b[0m \u001b[1;33m\u001b[0m\u001b[0m\n",
      "\u001b[1;32md:\\ProgramData\\Anaconda3\\lib\\site-packages\\pandas\\core\\reshape\\merge.py\u001b[0m in \u001b[0;36mget_result\u001b[1;34m(self)\u001b[0m\n\u001b[0;32m    550\u001b[0m \u001b[1;33m\u001b[0m\u001b[0m\n\u001b[0;32m    551\u001b[0m         llabels, rlabels = items_overlap_with_suffix(ldata.items, lsuf,\n\u001b[1;32m--> 552\u001b[1;33m                                                      rdata.items, rsuf)\n\u001b[0m\u001b[0;32m    553\u001b[0m \u001b[1;33m\u001b[0m\u001b[0m\n\u001b[0;32m    554\u001b[0m         \u001b[0mlindexers\u001b[0m \u001b[1;33m=\u001b[0m \u001b[1;33m{\u001b[0m\u001b[1;36m1\u001b[0m\u001b[1;33m:\u001b[0m \u001b[0mleft_indexer\u001b[0m\u001b[1;33m}\u001b[0m \u001b[1;32mif\u001b[0m \u001b[0mleft_indexer\u001b[0m \u001b[1;32mis\u001b[0m \u001b[1;32mnot\u001b[0m \u001b[1;32mNone\u001b[0m \u001b[1;32melse\u001b[0m \u001b[1;33m{\u001b[0m\u001b[1;33m}\u001b[0m\u001b[1;33m\u001b[0m\u001b[0m\n",
      "\u001b[1;32md:\\ProgramData\\Anaconda3\\lib\\site-packages\\pandas\\core\\internals\\managers.py\u001b[0m in \u001b[0;36mitems_overlap_with_suffix\u001b[1;34m(left, lsuffix, right, rsuffix)\u001b[0m\n\u001b[0;32m   1970\u001b[0m         \u001b[1;32mif\u001b[0m \u001b[1;32mnot\u001b[0m \u001b[0mlsuffix\u001b[0m \u001b[1;32mand\u001b[0m \u001b[1;32mnot\u001b[0m \u001b[0mrsuffix\u001b[0m\u001b[1;33m:\u001b[0m\u001b[1;33m\u001b[0m\u001b[0m\n\u001b[0;32m   1971\u001b[0m             raise ValueError('columns overlap but no suffix specified: '\n\u001b[1;32m-> 1972\u001b[1;33m                              '{rename}'.format(rename=to_rename))\n\u001b[0m\u001b[0;32m   1973\u001b[0m \u001b[1;33m\u001b[0m\u001b[0m\n\u001b[0;32m   1974\u001b[0m         \u001b[1;32mdef\u001b[0m \u001b[0mlrenamer\u001b[0m\u001b[1;33m(\u001b[0m\u001b[0mx\u001b[0m\u001b[1;33m)\u001b[0m\u001b[1;33m:\u001b[0m\u001b[1;33m\u001b[0m\u001b[0m\n",
      "\u001b[1;31mValueError\u001b[0m: columns overlap but no suffix specified: Index(['JG_ID'], dtype='object')"
     ]
    }
   ],
   "source": [
    "df_cjb_sinterm=df_cjb_sinterm.join(df_teacher.set_index('JGH'),on='JSGH')\n",
    "df_cjb_sinterm.head()"
   ]
  },
  {
   "cell_type": "markdown",
   "metadata": {},
   "source": [
    "###### 3.统计每门课程的成绩人数\n"
   ]
  },
  {
   "cell_type": "markdown",
   "metadata": {},
   "source": [
    "#### 糖葫芦图\n",
    "速度很快"
   ]
  },
  {
   "cell_type": "code",
   "execution_count": 177,
   "metadata": {},
   "outputs": [
    {
     "ename": "AttributeError",
     "evalue": "'DataFrame' object has no attribute 'JG_ID'",
     "output_type": "error",
     "traceback": [
      "\u001b[1;31m---------------------------------------------------------------------------\u001b[0m",
      "\u001b[1;31mAttributeError\u001b[0m                            Traceback (most recent call last)",
      "\u001b[1;32m<ipython-input-177-09e2e7eb7690>\u001b[0m in \u001b[0;36m<module>\u001b[1;34m()\u001b[0m\n\u001b[0;32m      1\u001b[0m \u001b[1;31m#获取部门代码\u001b[0m\u001b[1;33m\u001b[0m\u001b[1;33m\u001b[0m\u001b[0m\n\u001b[1;32m----> 2\u001b[1;33m \u001b[0mset_jgid\u001b[0m\u001b[1;33m=\u001b[0m\u001b[0mdf_cjb_sinterm\u001b[0m\u001b[1;33m.\u001b[0m\u001b[0mJG_ID\u001b[0m\u001b[1;33m.\u001b[0m\u001b[0mdrop_duplicates\u001b[0m\u001b[1;33m(\u001b[0m\u001b[0mkeep\u001b[0m\u001b[1;33m=\u001b[0m\u001b[1;34m'first'\u001b[0m\u001b[1;33m)\u001b[0m\u001b[1;33m\u001b[0m\u001b[0m\n\u001b[0m\u001b[0;32m      3\u001b[0m \u001b[1;32mfor\u001b[0m \u001b[0mjg_id\u001b[0m \u001b[1;32min\u001b[0m \u001b[0mset_jgid\u001b[0m\u001b[1;33m:\u001b[0m\u001b[1;33m\u001b[0m\u001b[0m\n\u001b[0;32m      4\u001b[0m     \u001b[1;31m#print(jg_id)\u001b[0m\u001b[1;33m\u001b[0m\u001b[1;33m\u001b[0m\u001b[0m\n\u001b[0;32m      5\u001b[0m     \u001b[1;31m#jg_id='01'\u001b[0m\u001b[1;33m\u001b[0m\u001b[1;33m\u001b[0m\u001b[0m\n",
      "\u001b[1;32md:\\ProgramData\\Anaconda3\\lib\\site-packages\\pandas\\core\\generic.py\u001b[0m in \u001b[0;36m__getattr__\u001b[1;34m(self, name)\u001b[0m\n\u001b[0;32m   5065\u001b[0m             \u001b[1;32mif\u001b[0m \u001b[0mself\u001b[0m\u001b[1;33m.\u001b[0m\u001b[0m_info_axis\u001b[0m\u001b[1;33m.\u001b[0m\u001b[0m_can_hold_identifiers_and_holds_name\u001b[0m\u001b[1;33m(\u001b[0m\u001b[0mname\u001b[0m\u001b[1;33m)\u001b[0m\u001b[1;33m:\u001b[0m\u001b[1;33m\u001b[0m\u001b[0m\n\u001b[0;32m   5066\u001b[0m                 \u001b[1;32mreturn\u001b[0m \u001b[0mself\u001b[0m\u001b[1;33m[\u001b[0m\u001b[0mname\u001b[0m\u001b[1;33m]\u001b[0m\u001b[1;33m\u001b[0m\u001b[0m\n\u001b[1;32m-> 5067\u001b[1;33m             \u001b[1;32mreturn\u001b[0m \u001b[0mobject\u001b[0m\u001b[1;33m.\u001b[0m\u001b[0m__getattribute__\u001b[0m\u001b[1;33m(\u001b[0m\u001b[0mself\u001b[0m\u001b[1;33m,\u001b[0m \u001b[0mname\u001b[0m\u001b[1;33m)\u001b[0m\u001b[1;33m\u001b[0m\u001b[0m\n\u001b[0m\u001b[0;32m   5068\u001b[0m \u001b[1;33m\u001b[0m\u001b[0m\n\u001b[0;32m   5069\u001b[0m     \u001b[1;32mdef\u001b[0m \u001b[0m__setattr__\u001b[0m\u001b[1;33m(\u001b[0m\u001b[0mself\u001b[0m\u001b[1;33m,\u001b[0m \u001b[0mname\u001b[0m\u001b[1;33m,\u001b[0m \u001b[0mvalue\u001b[0m\u001b[1;33m)\u001b[0m\u001b[1;33m:\u001b[0m\u001b[1;33m\u001b[0m\u001b[0m\n",
      "\u001b[1;31mAttributeError\u001b[0m: 'DataFrame' object has no attribute 'JG_ID'"
     ]
    }
   ],
   "source": [
    "#获取部门代码\n",
    "set_jgid=df_cjb_sinterm.JG_ID.drop_duplicates(keep='first')\n",
    "for jg_id in set_jgid:\n",
    "    #print(jg_id)\n",
    "    #jg_id='01'\n",
    "    #建立部门代码目录\n",
    "    path_name='img/'+str(jg_id)\n",
    "    isExists=os.path.exists(path_name)\n",
    "    if not isExists:\n",
    "        os.mkdir(path_name)\n",
    "\n",
    "    ser_js_jgid=df_teacher[df_teacher.JG_ID==jg_id].JGH\n",
    "    ser_js_jgid.head()\n",
    "\n",
    "    df_cjb_group=df_cjb_sinterm.groupby(['JSGH','KCMC','BFZCJ']).count()\n",
    "    df_cjb_group.reset_index(inplace=True)\n",
    "    df_cjb_group.head()\n",
    "\n",
    "    for index in ser_js_jgid.index:\n",
    "        jsgh=ser_js_jgid[index]\n",
    "        print(jsgh)\n",
    "\n",
    "        df_cjb_single=df_cjb_group[df_cjb_group.JSGH==jsgh]\n",
    "        #没有课程的教师不绘制图像\n",
    "        len1=len(df_cjb_single.groupby('KCMC').count())    \n",
    "        if (len1 !=0):\n",
    "            #绘制图像    \n",
    "            point_size=80     #图像点的大小\n",
    "            df_cjb_single.insert(0,'SCALE',df_cjb_single.KCH*point_size)  #按比例显示人数\n",
    "            #df_jscjb_single.eval('KCH=KCH*23',inplace=True)\n",
    "            plt.figure(figsize=[2*len1,10])\n",
    "            plt.grid()\n",
    "\n",
    "            plt.scatter('KCMC','BFZCJ','SCALE',data=df_cjb_single)\n",
    "            plt.plot([-1,len1],[60,60],'r-.')\n",
    "            plt.xticks(rotation=30)\n",
    "            plt.yticks(range(0,101,5))\n",
    "\n",
    "            plt.title(\"单个教师单学期全部课程成绩分析\")\n",
    "            plt.xlabel('课程名称')\n",
    "            plt.ylabel('课程成绩')\n",
    "\n",
    "            pic_file_name='img/'+jg_id+'/'+jsgh+'任课成绩分析.png'\n",
    "            plt.savefig(pic_file_name)\n",
    "            plt.close()     #否则打开的图形太多\n",
    "            #plt.show()\n",
    "\n",
    "print('ok')"
   ]
  },
  {
   "cell_type": "markdown",
   "metadata": {
    "collapsed": true
   },
   "source": [
    "#### 糖葫芦图+箱图"
   ]
  },
  {
   "cell_type": "code",
   "execution_count": 215,
   "metadata": {},
   "outputs": [
    {
     "name": "stdout",
     "output_type": "stream",
     "text": [
      "200800090\n",
      "和声学基础（一）\n",
      "小型乐队编配\n",
      "曲式与作品分析\n",
      "计算机音乐（一）\n",
      "200600006\n",
      "教师职业道德规范与教育法规\n",
      "教育实习\n",
      "班级管理与班主任工作\n",
      "200900011\n",
      "中国文化概论\n",
      "中国现代文学名家名作\n",
      "中国现当代文学（2）\n",
      "学术经典与论文写作\n",
      "200700033\n",
      "学前儿童游戏\n",
      "学前教育学\n",
      "200500030\n",
      "200500031\n",
      "儿童歌曲弹唱（1）\n",
      "学前钢琴基础\n"
     ]
    },
    {
     "ename": "ValueError",
     "evalue": "X must have 2 or fewer dimensions",
     "output_type": "error",
     "traceback": [
      "\u001b[1;31m---------------------------------------------------------------------------\u001b[0m",
      "\u001b[1;31mValueError\u001b[0m                                Traceback (most recent call last)",
      "\u001b[1;32m<ipython-input-215-af39ab1989eb>\u001b[0m in \u001b[0;36m<module>\u001b[1;34m()\u001b[0m\n\u001b[0;32m     57\u001b[0m                                            \u001b[0mpatch_artist\u001b[0m\u001b[1;33m=\u001b[0m\u001b[1;32mTrue\u001b[0m\u001b[1;33m,\u001b[0m  \u001b[1;31m# fill with color\u001b[0m\u001b[1;33m\u001b[0m\u001b[0m\n\u001b[0;32m     58\u001b[0m                                            \u001b[0mlabels\u001b[0m\u001b[1;33m=\u001b[0m\u001b[0mlist_labels\u001b[0m\u001b[1;33m,\u001b[0m  \u001b[1;31m# will be used to label x-ticks\u001b[0m\u001b[1;33m\u001b[0m\u001b[0m\n\u001b[1;32m---> 59\u001b[1;33m                                            flierprops=red_square) \n\u001b[0m\u001b[0;32m     60\u001b[0m                  \u001b[1;31m# fill with colors\u001b[0m\u001b[1;33m\u001b[0m\u001b[1;33m\u001b[0m\u001b[0m\n\u001b[0;32m     61\u001b[0m                 \u001b[0mcolors\u001b[0m \u001b[1;33m=\u001b[0m \u001b[1;33m[\u001b[0m\u001b[1;34m'yellow'\u001b[0m\u001b[1;33m,\u001b[0m\u001b[1;34m'pink'\u001b[0m\u001b[1;33m,\u001b[0m \u001b[1;34m'lightblue'\u001b[0m\u001b[1;33m,\u001b[0m \u001b[1;34m'lightgreen'\u001b[0m\u001b[1;33m,\u001b[0m\u001b[1;34m'lightyellow'\u001b[0m\u001b[1;33m]\u001b[0m\u001b[1;33m\u001b[0m\u001b[0m\n",
      "\u001b[1;32md:\\ProgramData\\Anaconda3\\lib\\site-packages\\matplotlib\\__init__.py\u001b[0m in \u001b[0;36minner\u001b[1;34m(ax, data, *args, **kwargs)\u001b[0m\n\u001b[0;32m   1808\u001b[0m                         \u001b[1;34m\"the Matplotlib list!)\"\u001b[0m \u001b[1;33m%\u001b[0m \u001b[1;33m(\u001b[0m\u001b[0mlabel_namer\u001b[0m\u001b[1;33m,\u001b[0m \u001b[0mfunc\u001b[0m\u001b[1;33m.\u001b[0m\u001b[0m__name__\u001b[0m\u001b[1;33m)\u001b[0m\u001b[1;33m,\u001b[0m\u001b[1;33m\u001b[0m\u001b[0m\n\u001b[0;32m   1809\u001b[0m                         RuntimeWarning, stacklevel=2)\n\u001b[1;32m-> 1810\u001b[1;33m             \u001b[1;32mreturn\u001b[0m \u001b[0mfunc\u001b[0m\u001b[1;33m(\u001b[0m\u001b[0max\u001b[0m\u001b[1;33m,\u001b[0m \u001b[1;33m*\u001b[0m\u001b[0margs\u001b[0m\u001b[1;33m,\u001b[0m \u001b[1;33m**\u001b[0m\u001b[0mkwargs\u001b[0m\u001b[1;33m)\u001b[0m\u001b[1;33m\u001b[0m\u001b[0m\n\u001b[0m\u001b[0;32m   1811\u001b[0m \u001b[1;33m\u001b[0m\u001b[0m\n\u001b[0;32m   1812\u001b[0m         inner.__doc__ = _add_data_doc(inner.__doc__,\n",
      "\u001b[1;32md:\\ProgramData\\Anaconda3\\lib\\site-packages\\matplotlib\\axes\\_axes.py\u001b[0m in \u001b[0;36mboxplot\u001b[1;34m(self, x, notch, sym, vert, whis, positions, widths, patch_artist, bootstrap, usermedians, conf_intervals, meanline, showmeans, showcaps, showbox, showfliers, boxprops, labels, flierprops, medianprops, meanprops, capprops, whiskerprops, manage_xticks, autorange, zorder)\u001b[0m\n\u001b[0;32m   3501\u001b[0m \u001b[1;33m\u001b[0m\u001b[0m\n\u001b[0;32m   3502\u001b[0m         bxpstats = cbook.boxplot_stats(x, whis=whis, bootstrap=bootstrap,\n\u001b[1;32m-> 3503\u001b[1;33m                                        labels=labels, autorange=autorange)\n\u001b[0m\u001b[0;32m   3504\u001b[0m         \u001b[1;32mif\u001b[0m \u001b[0mnotch\u001b[0m \u001b[1;32mis\u001b[0m \u001b[1;32mNone\u001b[0m\u001b[1;33m:\u001b[0m\u001b[1;33m\u001b[0m\u001b[0m\n\u001b[0;32m   3505\u001b[0m             \u001b[0mnotch\u001b[0m \u001b[1;33m=\u001b[0m \u001b[0mrcParams\u001b[0m\u001b[1;33m[\u001b[0m\u001b[1;34m'boxplot.notch'\u001b[0m\u001b[1;33m]\u001b[0m\u001b[1;33m\u001b[0m\u001b[0m\n",
      "\u001b[1;32md:\\ProgramData\\Anaconda3\\lib\\site-packages\\matplotlib\\cbook\\__init__.py\u001b[0m in \u001b[0;36mboxplot_stats\u001b[1;34m(X, whis, bootstrap, labels, autorange)\u001b[0m\n\u001b[0;32m   1173\u001b[0m \u001b[1;33m\u001b[0m\u001b[0m\n\u001b[0;32m   1174\u001b[0m     \u001b[1;31m# convert X to a list of lists\u001b[0m\u001b[1;33m\u001b[0m\u001b[1;33m\u001b[0m\u001b[0m\n\u001b[1;32m-> 1175\u001b[1;33m     \u001b[0mX\u001b[0m \u001b[1;33m=\u001b[0m \u001b[0m_reshape_2D\u001b[0m\u001b[1;33m(\u001b[0m\u001b[0mX\u001b[0m\u001b[1;33m,\u001b[0m \u001b[1;34m\"X\"\u001b[0m\u001b[1;33m)\u001b[0m\u001b[1;33m\u001b[0m\u001b[0m\n\u001b[0m\u001b[0;32m   1176\u001b[0m \u001b[1;33m\u001b[0m\u001b[0m\n\u001b[0;32m   1177\u001b[0m     \u001b[0mncols\u001b[0m \u001b[1;33m=\u001b[0m \u001b[0mlen\u001b[0m\u001b[1;33m(\u001b[0m\u001b[0mX\u001b[0m\u001b[1;33m)\u001b[0m\u001b[1;33m\u001b[0m\u001b[0m\n",
      "\u001b[1;32md:\\ProgramData\\Anaconda3\\lib\\site-packages\\matplotlib\\cbook\\__init__.py\u001b[0m in \u001b[0;36m_reshape_2D\u001b[1;34m(X, name)\u001b[0m\n\u001b[0;32m   1401\u001b[0m         \u001b[1;32mreturn\u001b[0m \u001b[1;33m[\u001b[0m\u001b[0mnp\u001b[0m\u001b[1;33m.\u001b[0m\u001b[0mreshape\u001b[0m\u001b[1;33m(\u001b[0m\u001b[0mx\u001b[0m\u001b[1;33m,\u001b[0m \u001b[1;33m-\u001b[0m\u001b[1;36m1\u001b[0m\u001b[1;33m)\u001b[0m \u001b[1;32mfor\u001b[0m \u001b[0mx\u001b[0m \u001b[1;32min\u001b[0m \u001b[0mX\u001b[0m\u001b[1;33m]\u001b[0m\u001b[1;33m\u001b[0m\u001b[0m\n\u001b[0;32m   1402\u001b[0m     \u001b[1;32melse\u001b[0m\u001b[1;33m:\u001b[0m\u001b[1;33m\u001b[0m\u001b[0m\n\u001b[1;32m-> 1403\u001b[1;33m         \u001b[1;32mraise\u001b[0m \u001b[0mValueError\u001b[0m\u001b[1;33m(\u001b[0m\u001b[1;34m\"{} must have 2 or fewer dimensions\"\u001b[0m\u001b[1;33m.\u001b[0m\u001b[0mformat\u001b[0m\u001b[1;33m(\u001b[0m\u001b[0mname\u001b[0m\u001b[1;33m)\u001b[0m\u001b[1;33m)\u001b[0m\u001b[1;33m\u001b[0m\u001b[0m\n\u001b[0m\u001b[0;32m   1404\u001b[0m \u001b[1;33m\u001b[0m\u001b[0m\n\u001b[0;32m   1405\u001b[0m \u001b[1;33m\u001b[0m\u001b[0m\n",
      "\u001b[1;31mValueError\u001b[0m: X must have 2 or fewer dimensions"
     ]
    },
    {
     "data": {
      "image/png": "[encoded data removed]",
      "text/plain": [
       "<Figure size 900x900 with 2 Axes>"
      ]
     },
     "metadata": {},
     "output_type": "display_data"
    }
   ],
   "source": [
    "#获取部门代码\n",
    "set_jgid=df_cjb_sinterm.JG_ID.drop_duplicates(keep='first')\n",
    "for jg_id in set_jgid:\n",
    "    #建立部门代码目录\n",
    "    path_name='img/thlt_xt/'+str(jg_id)\n",
    "    isExists=os.path.exists(path_name)\n",
    "    if not isExists:\n",
    "        os.mkdir(path_name)\n",
    "\n",
    "    ser_js_jgid=df_teacher[df_teacher.JG_ID==jg_id].JGH\n",
    "    df_cjb_group=df_cjb_sinterm.groupby(['JSGH','KCMC','BFZCJ']).count()\n",
    "    df_cjb_group.reset_index(inplace=True)\n",
    "\n",
    "    for index in ser_js_jgid.index:\n",
    "        jsgh=ser_js_jgid[index]\n",
    "        print(jsgh)\n",
    "\n",
    "        if jsgh=='31':\n",
    "            pass\n",
    "        else :\n",
    "            df_cjb_single=df_cjb_group[df_cjb_group.JSGH==jsgh]\n",
    "            #没有课程的教师不绘制图像\n",
    "            len1=len(df_cjb_single.groupby('KCMC').count())    \n",
    "            if (len1 !=0):\n",
    "                fig,(ax1,ax2)=plt.subplots(2,1)\n",
    "                fig.suptitle(\"单个教师单学期全部课程成绩分析\")\n",
    "                #---------绘制糖葫芦图---------\n",
    "                point_size=80     #图像点的大小\n",
    "                df_cjb_single.insert(0,'SCALE',df_cjb_single.KCH*point_size)  #增加按比例显示人数的列\n",
    "                #plt.xticks(rotation=30)\n",
    "                plt.yticks(range(0,101,5))\n",
    "                ax1.grid()\n",
    "                ax1.scatter('KCMC','BFZCJ','SCALE',data=df_cjb_single)\n",
    "                ax1.plot([-1,len1],[60,60],'r-.')\n",
    "\n",
    "\n",
    "                #---------生成箱图数据-----------------------\n",
    "                list_labels=df_cjb_single.groupby('KCMC').count().index.tolist()   #获取课程名称\n",
    "                list_cjb_show=[]\n",
    "                for kcmc in list_labels:\n",
    "                    print(kcmc)\n",
    "                    #array_cjb=np.array([df_cjb_single[df_cjb_single.KCMC==kcmc].BFZCJ])\n",
    "                    array_cjb=df_cjb_single[df_cjb_single.KCMC==kcmc].BFZCJ.to_numpy()\n",
    "                    array_cjb.shape=(-1,1)    \n",
    "                    list_cjb_show.append(array_cjb)\n",
    "\n",
    "                ax2.grid()\n",
    "                red_square = dict(markerfacecolor='r', marker='s')\n",
    "                if len1==1:\n",
    "                    show_data=list_cjb_show[0]\n",
    "                else :\n",
    "                    show_data=list_cjb_show\n",
    "\n",
    "                dic_cjb_single=ax2.boxplot(show_data,\n",
    "                                           meanline=True,\n",
    "                                           showmeans=True,#显示平均分线\n",
    "                                           patch_artist=True,  # fill with color\n",
    "                                           labels=list_labels,  # will be used to label x-ticks\n",
    "                                           flierprops=red_square) \n",
    "                 # fill with colors\n",
    "                colors = ['yellow','pink', 'lightblue', 'lightgreen','lightyellow']\n",
    "                for patch, color in zip(dic_cjb_single['boxes'], colors):\n",
    "                    patch.set_facecolor(color)    \n",
    "\n",
    "                ax2.plot([-1,len1+1],[60,60],'r-.')\n",
    "                #plt.xticks(rotation=30)\n",
    "                plt.yticks(range(0,101,10))\n",
    "                plt.xlabel('课程名称')\n",
    "                plt.ylabel('课程成绩')\n",
    "\n",
    "                pic_file_name='img/thlt_xt/'+jg_id+'/'+jsgh+'任课成绩分析.png'\n",
    "                plt.savefig(pic_file_name)\n",
    "                plt.close()     #否则打开的图形太多\n",
    "                #plt.show()\n",
    "\n",
    "print('ok')"
   ]
  },
  {
   "cell_type": "code",
   "execution_count": 185,
   "metadata": {},
   "outputs": [
    {
     "data": {
      "text/plain": [
       "'\\n#获取部门代码\\nset_jgid=df_cjb_sinterm.JG_ID.drop_duplicates(keep=\\'first\\')\\nfor jg_id in set_jgid:\\n    #建立部门代码目录\\n    path_name=\\'img/thlt_xt/\\'+str(jg_id)\\n    isExists=os.path.exists(path_name)\\n    if not isExists:\\n        os.mkdir(path_name)\\n\\n    ser_js_jgid=df_teacher[df_teacher.JG_ID==jg_id].JGH\\n    df_cjb_group=df_cjb_sinterm.groupby([\\'JSGH\\',\\'KCMC\\',\\'BFZCJ\\']).count()\\n    df_cjb_group.reset_index(inplace=True)\\n\\n    for index in ser_js_jgid.index:\\n        jsgh=ser_js_jgid[index]\\n        print(jsgh)\\n\\n        df_cjb_single=df_cjb_group[df_cjb_group.JSGH==jsgh]\\n        #没有课程的教师不绘制图像\\n        len1=len(df_cjb_single.groupby(\\'KCMC\\').count())    \\n        if (len1 !=0):\\n            fig,(ax1,ax2)=plt.subplots(2,1)\\n            fig.suptitle(\"单个教师单学期全部课程成绩分析\")\\n            #---------绘制糖葫芦图---------\\n            point_size=80     #图像点的大小\\n            df_cjb_single.insert(0,\\'SCALE\\',df_cjb_single.KCH*point_size)  #增加按比例显示人数的列\\n            #plt.xticks(rotation=30)\\n            plt.yticks(range(0,101,5))\\n            ax1.grid()\\n            ax1.scatter(\\'KCMC\\',\\'BFZCJ\\',\\'SCALE\\',data=df_cjb_single)\\n            ax1.plot([-1,len1],[60,60],\\'r-.\\')\\n\\n\\n            #---------生成箱图数据-----------------------\\n            list_labels=df_cjb_single.groupby(\\'KCMC\\').count().index.tolist()   #获取课程名称\\n            list_cjb_show=[]\\n            for kcmc in list_labels:\\n                #print(kcmc)\\n                array_cjb=np.array([df_cjb_single[df_cjb_single.KCMC==kcmc].BFZCJ])\\n                array_cjb.shape=(-1,1)    \\n                list_cjb_show.append(array_cjb)\\n\\n            ax2.grid()\\n            red_square = dict(markerfacecolor=\\'r\\', marker=\\'s\\')\\n            if len1==1:\\n                show_data=list_cjb_show[0]\\n            else :\\n                show_data=list_cjb_show\\n\\n            dic_cjb_single=ax2.boxplot(show_data,\\n                                       meanline=True,\\n                                       showmeans=True,#显示平均分线\\n                                       patch_artist=True,  # fill with color\\n                                       labels=list_labels,  # will be used to label x-ticks\\n                                       flierprops=red_square) \\n             # fill with colors\\n            colors = [\\'yellow\\',\\'pink\\', \\'lightblue\\', \\'lightgreen\\',\\'lightyellow\\']\\n            for patch, color in zip(dic_cjb_single[\\'boxes\\'], colors):\\n                patch.set_facecolor(color)    \\n\\n            ax2.plot([-1,len1+1],[60,60],\\'r-.\\')\\n            #plt.xticks(rotation=30)\\n            plt.yticks(range(0,101,10))\\n            plt.xlabel(\\'课程名称\\')\\n            plt.ylabel(\\'课程成绩\\')\\n\\n            pic_file_name=\\'img/thlt_xt/\\'+jg_id+\\'/\\'+jsgh+\\'任课成绩分析.png\\'\\n            plt.savefig(pic_file_name)\\n            plt.close()     #否则打开的图形太多\\n            #plt.show()\\n\\nprint(\\'ok\\')\\n'"
      ]
     },
     "execution_count": 185,
     "metadata": {},
     "output_type": "execute_result"
    }
   ],
   "source": [
    "'''\n",
    "#获取部门代码\n",
    "set_jgid=df_cjb_sinterm.JG_ID.drop_duplicates(keep='first')\n",
    "for jg_id in set_jgid:\n",
    "    #建立部门代码目录\n",
    "    path_name='img/thlt_xt/'+str(jg_id)\n",
    "    isExists=os.path.exists(path_name)\n",
    "    if not isExists:\n",
    "        os.mkdir(path_name)\n",
    "\n",
    "    ser_js_jgid=df_teacher[df_teacher.JG_ID==jg_id].JGH\n",
    "    df_cjb_group=df_cjb_sinterm.groupby(['JSGH','KCMC','BFZCJ']).count()\n",
    "    df_cjb_group.reset_index(inplace=True)\n",
    "\n",
    "    for index in ser_js_jgid.index:\n",
    "        jsgh=ser_js_jgid[index]\n",
    "        print(jsgh)\n",
    "\n",
    "        df_cjb_single=df_cjb_group[df_cjb_group.JSGH==jsgh]\n",
    "        #没有课程的教师不绘制图像\n",
    "        len1=len(df_cjb_single.groupby('KCMC').count())    \n",
    "        if (len1 !=0):\n",
    "            fig,(ax1,ax2)=plt.subplots(2,1)\n",
    "            fig.suptitle(\"单个教师单学期全部课程成绩分析\")\n",
    "            #---------绘制糖葫芦图---------\n",
    "            point_size=80     #图像点的大小\n",
    "            df_cjb_single.insert(0,'SCALE',df_cjb_single.KCH*point_size)  #增加按比例显示人数的列\n",
    "            #plt.xticks(rotation=30)\n",
    "            plt.yticks(range(0,101,5))\n",
    "            ax1.grid()\n",
    "            ax1.scatter('KCMC','BFZCJ','SCALE',data=df_cjb_single)\n",
    "            ax1.plot([-1,len1],[60,60],'r-.')\n",
    "\n",
    "\n",
    "            #---------生成箱图数据-----------------------\n",
    "            list_labels=df_cjb_single.groupby('KCMC').count().index.tolist()   #获取课程名称\n",
    "            list_cjb_show=[]\n",
    "            for kcmc in list_labels:\n",
    "                #print(kcmc)\n",
    "                array_cjb=np.array([df_cjb_single[df_cjb_single.KCMC==kcmc].BFZCJ])\n",
    "                array_cjb.shape=(-1,1)    \n",
    "                list_cjb_show.append(array_cjb)\n",
    "\n",
    "            ax2.grid()\n",
    "            red_square = dict(markerfacecolor='r', marker='s')\n",
    "            if len1==1:\n",
    "                show_data=list_cjb_show[0]\n",
    "            else :\n",
    "                show_data=list_cjb_show\n",
    "\n",
    "            dic_cjb_single=ax2.boxplot(show_data,\n",
    "                                       meanline=True,\n",
    "                                       showmeans=True,#显示平均分线\n",
    "                                       patch_artist=True,  # fill with color\n",
    "                                       labels=list_labels,  # will be used to label x-ticks\n",
    "                                       flierprops=red_square) \n",
    "             # fill with colors\n",
    "            colors = ['yellow','pink', 'lightblue', 'lightgreen','lightyellow']\n",
    "            for patch, color in zip(dic_cjb_single['boxes'], colors):\n",
    "                patch.set_facecolor(color)    \n",
    "\n",
    "            ax2.plot([-1,len1+1],[60,60],'r-.')\n",
    "            #plt.xticks(rotation=30)\n",
    "            plt.yticks(range(0,101,10))\n",
    "            plt.xlabel('课程名称')\n",
    "            plt.ylabel('课程成绩')\n",
    "\n",
    "            pic_file_name='img/thlt_xt/'+jg_id+'/'+jsgh+'任课成绩分析.png'\n",
    "            plt.savefig(pic_file_name)\n",
    "            plt.close()     #否则打开的图形太多\n",
    "            #plt.show()\n",
    "\n",
    "print('ok')\n",
    "'''\n"
   ]
  },
  {
   "cell_type": "code",
   "execution_count": null,
   "metadata": {
    "collapsed": true
   },
   "outputs": [],
   "source": []
  },
  {
   "cell_type": "code",
   "execution_count": null,
   "metadata": {
    "collapsed": true
   },
   "outputs": [],
   "source": []
  },
  {
   "cell_type": "markdown",
   "metadata": {},
   "source": [
    "#### end"
   ]
  }
 ],
 "metadata": {
  "kernelspec": {
   "display_name": "Python 3",
   "language": "python",
   "name": "python3"
  },
  "language_info": {
   "codemirror_mode": {
    "name": "ipython",
    "version": 3
   },
   "file_extension": ".py",
   "mimetype": "text/x-python",
   "name": "python",
   "nbconvert_exporter": "python",
   "pygments_lexer": "ipython3",
   "version": "3.6.3"
  }
 },
 "nbformat": 4,
 "nbformat_minor": 2
}
