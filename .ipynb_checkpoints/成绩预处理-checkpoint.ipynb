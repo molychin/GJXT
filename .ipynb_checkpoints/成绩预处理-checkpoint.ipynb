{
 "cells": [
  {
   "cell_type": "markdown",
   "metadata": {},
   "source": [
    "## 成绩分析"
   ]
  },
  {
   "cell_type": "markdown",
   "metadata": {
    "collapsed": true
   },
   "source": [
    "### 数据分析本地数据版本：xscjb20190214.csv\n",
    "参见《成绩从数据库取到本地》\n"
   ]
  },
  {
   "cell_type": "code",
   "execution_count": 2,
   "metadata": {
    "collapsed": true
   },
   "outputs": [],
   "source": [
    "import numpy as np\n",
    "import pandas as pd"
   ]
  },
  {
   "cell_type": "code",
   "execution_count": 3,
   "metadata": {},
   "outputs": [
    {
     "name": "stderr",
     "output_type": "stream",
     "text": [
      "d:\\ProgramData\\Anaconda3\\lib\\site-packages\\IPython\\core\\interactiveshell.py:2698: DtypeWarning: Columns (4,11,13,14,18,19,20,21,22) have mixed types. Specify dtype option on import or set low_memory=False.\n",
      "  interactivity=interactivity, compiler=compiler, result=result)\n"
     ]
    }
   ],
   "source": [
    "#从本地数据文件中读取成绩数据\n",
    "#读取文件耗时130秒/30s\n",
    "\n",
    "file_name='data/xscjb20190214.csv'\n",
    "#df_xscjb=pd.read_csv(\"../data/xscjb.csv\",nrows=10000)\n",
    "#df_xscjb=pd.read_csv(\"../data/xscjb.csv\",prefix='X')\n",
    "df_xscjb=pd.read_csv(file_name)"
   ]
  },
  {
   "cell_type": "code",
   "execution_count": 4,
   "metadata": {},
   "outputs": [
    {
     "data": {
      "text/html": [
       "<div>\n",
       "<style scoped>\n",
       "    .dataframe tbody tr th:only-of-type {\n",
       "        vertical-align: middle;\n",
       "    }\n",
       "\n",
       "    .dataframe tbody tr th {\n",
       "        vertical-align: top;\n",
       "    }\n",
       "\n",
       "    .dataframe thead th {\n",
       "        text-align: right;\n",
       "    }\n",
       "</style>\n",
       "<table border=\"1\" class=\"dataframe\">\n",
       "  <thead>\n",
       "    <tr style=\"text-align: right;\">\n",
       "      <th></th>\n",
       "      <th>XNM</th>\n",
       "      <th>XQM</th>\n",
       "      <th>KCH_ID</th>\n",
       "      <th>JXB_ID</th>\n",
       "      <th>XH_ID</th>\n",
       "      <th>CJ</th>\n",
       "      <th>BFZCJ</th>\n",
       "      <th>CJBZ</th>\n",
       "      <th>JD</th>\n",
       "      <th>CJXZM</th>\n",
       "      <th>...</th>\n",
       "      <th>KCXZDM</th>\n",
       "      <th>BZXX</th>\n",
       "      <th>KCH</th>\n",
       "      <th>KCMC</th>\n",
       "      <th>KCLBDM</th>\n",
       "      <th>KCGSDM</th>\n",
       "      <th>CZSJ</th>\n",
       "      <th>JSXX</th>\n",
       "      <th>JSGH</th>\n",
       "      <th>JSXM</th>\n",
       "    </tr>\n",
       "  </thead>\n",
       "  <tbody>\n",
       "    <tr>\n",
       "      <th>0</th>\n",
       "      <td>2003</td>\n",
       "      <td>12</td>\n",
       "      <td>10010002</td>\n",
       "      <td>03-2004-2)-10010002--0</td>\n",
       "      <td>040103256</td>\n",
       "      <td>79</td>\n",
       "      <td>79.0</td>\n",
       "      <td>NaN</td>\n",
       "      <td>2.9</td>\n",
       "      <td>1</td>\n",
       "      <td>...</td>\n",
       "      <td>1</td>\n",
       "      <td>NaN</td>\n",
       "      <td>10010002</td>\n",
       "      <td>体育（2）</td>\n",
       "      <td>1.0</td>\n",
       "      <td>NaN</td>\n",
       "      <td>NaN</td>\n",
       "      <td>NaN</td>\n",
       "      <td>NaN</td>\n",
       "      <td>NaN</td>\n",
       "    </tr>\n",
       "    <tr>\n",
       "      <th>1</th>\n",
       "      <td>2003</td>\n",
       "      <td>12</td>\n",
       "      <td>04120003</td>\n",
       "      <td>03-2004-2)-04120003--</td>\n",
       "      <td>040103256</td>\n",
       "      <td>61</td>\n",
       "      <td>61.0</td>\n",
       "      <td>NaN</td>\n",
       "      <td>1.1</td>\n",
       "      <td>1</td>\n",
       "      <td>...</td>\n",
       "      <td>1</td>\n",
       "      <td>NaN</td>\n",
       "      <td>04120003</td>\n",
       "      <td>数学分析(Ⅱ)</td>\n",
       "      <td>2.0</td>\n",
       "      <td>NaN</td>\n",
       "      <td>NaN</td>\n",
       "      <td>NaN</td>\n",
       "      <td>NaN</td>\n",
       "      <td>NaN</td>\n",
       "    </tr>\n",
       "    <tr>\n",
       "      <th>2</th>\n",
       "      <td>2003</td>\n",
       "      <td>12</td>\n",
       "      <td>04110003</td>\n",
       "      <td>03-2004-2)-04110003--</td>\n",
       "      <td>040103256</td>\n",
       "      <td>46</td>\n",
       "      <td>46.0</td>\n",
       "      <td>NaN</td>\n",
       "      <td>0.0</td>\n",
       "      <td>1</td>\n",
       "      <td>...</td>\n",
       "      <td>1</td>\n",
       "      <td>NaN</td>\n",
       "      <td>04110003</td>\n",
       "      <td>程序设计基础</td>\n",
       "      <td>1.0</td>\n",
       "      <td>NaN</td>\n",
       "      <td>NaN</td>\n",
       "      <td>NaN</td>\n",
       "      <td>NaN</td>\n",
       "      <td>NaN</td>\n",
       "    </tr>\n",
       "    <tr>\n",
       "      <th>3</th>\n",
       "      <td>2003</td>\n",
       "      <td>12</td>\n",
       "      <td>10006</td>\n",
       "      <td>03-2004-2)-10006--</td>\n",
       "      <td>040103256</td>\n",
       "      <td>86</td>\n",
       "      <td>86.0</td>\n",
       "      <td>NaN</td>\n",
       "      <td>3.6</td>\n",
       "      <td>1</td>\n",
       "      <td>...</td>\n",
       "      <td>3</td>\n",
       "      <td>NaN</td>\n",
       "      <td>10006</td>\n",
       "      <td>篮球技术与裁判（男子）</td>\n",
       "      <td>4.0</td>\n",
       "      <td>NaN</td>\n",
       "      <td>NaN</td>\n",
       "      <td>NaN</td>\n",
       "      <td>NaN</td>\n",
       "      <td>NaN</td>\n",
       "    </tr>\n",
       "    <tr>\n",
       "      <th>4</th>\n",
       "      <td>2003</td>\n",
       "      <td>12</td>\n",
       "      <td>03010002</td>\n",
       "      <td>03-2004-2)-03010002--0</td>\n",
       "      <td>040103256</td>\n",
       "      <td>65</td>\n",
       "      <td>65.0</td>\n",
       "      <td>NaN</td>\n",
       "      <td>1.5</td>\n",
       "      <td>1</td>\n",
       "      <td>...</td>\n",
       "      <td>1</td>\n",
       "      <td>NaN</td>\n",
       "      <td>03010002</td>\n",
       "      <td>大学英语（2）</td>\n",
       "      <td>1.0</td>\n",
       "      <td>NaN</td>\n",
       "      <td>NaN</td>\n",
       "      <td>NaN</td>\n",
       "      <td>NaN</td>\n",
       "      <td>NaN</td>\n",
       "    </tr>\n",
       "  </tbody>\n",
       "</table>\n",
       "<p>5 rows × 23 columns</p>\n",
       "</div>"
      ],
      "text/plain": [
       "    XNM  XQM    KCH_ID                  JXB_ID      XH_ID  CJ  BFZCJ CJBZ  \\\n",
       "0  2003   12  10010002  03-2004-2)-10010002--0  040103256  79   79.0  NaN   \n",
       "1  2003   12  04120003   03-2004-2)-04120003--  040103256  61   61.0  NaN   \n",
       "2  2003   12  04110003   03-2004-2)-04110003--  040103256  46   46.0  NaN   \n",
       "3  2003   12     10006      03-2004-2)-10006--  040103256  86   86.0  NaN   \n",
       "4  2003   12  03010002  03-2004-2)-03010002--0  040103256  65   65.0  NaN   \n",
       "\n",
       "    JD  CJXZM  ...  KCXZDM BZXX       KCH         KCMC KCLBDM KCGSDM CZSJ  \\\n",
       "0  2.9      1  ...       1  NaN  10010002        体育（2）    1.0    NaN  NaN   \n",
       "1  1.1      1  ...       1  NaN  04120003      数学分析(Ⅱ)    2.0    NaN  NaN   \n",
       "2  0.0      1  ...       1  NaN  04110003       程序设计基础    1.0    NaN  NaN   \n",
       "3  3.6      1  ...       3  NaN     10006  篮球技术与裁判（男子）    4.0    NaN  NaN   \n",
       "4  1.5      1  ...       1  NaN  03010002      大学英语（2）    1.0    NaN  NaN   \n",
       "\n",
       "   JSXX JSGH JSXM  \n",
       "0   NaN  NaN  NaN  \n",
       "1   NaN  NaN  NaN  \n",
       "2   NaN  NaN  NaN  \n",
       "3   NaN  NaN  NaN  \n",
       "4   NaN  NaN  NaN  \n",
       "\n",
       "[5 rows x 23 columns]"
      ]
     },
     "execution_count": 4,
     "metadata": {},
     "output_type": "execute_result"
    }
   ],
   "source": [
    "df_xscjb.head()"
   ]
  },
  {
   "cell_type": "markdown",
   "metadata": {},
   "source": [
    "### 数据基本信息"
   ]
  },
  {
   "cell_type": "code",
   "execution_count": 8,
   "metadata": {},
   "outputs": [
    {
     "name": "stdout",
     "output_type": "stream",
     "text": [
      "(3810319, 22)\n",
      "<class 'pandas.core.frame.DataFrame'>\n",
      "RangeIndex: 3810319 entries, 0 to 3810318\n",
      "Data columns (total 22 columns):\n",
      "XNM       int64\n",
      "XQM       int64\n",
      "KCH_ID    object\n",
      "JXB_ID    object\n",
      "XH_ID     object\n",
      "CJ        object\n",
      "BFZCJ     float64\n",
      "CJBZ      object\n",
      "JD        float64\n",
      "CJXZM     int64\n",
      "KCBJ      int64\n",
      "KCXZ      object\n",
      "XF        float64\n",
      "KCXZDM    object\n",
      "BZXX      object\n",
      "KCH       object\n",
      "KCMC      object\n",
      "KCLBDM    float64\n",
      "KCGSDM    object\n",
      "CZSJ      object\n",
      "JSGH      object\n",
      "JSXM      object\n",
      "dtypes: float64(4), int64(4), object(14)\n",
      "memory usage: 639.5+ MB\n"
     ]
    }
   ],
   "source": [
    "print(df_xscjb.shape)\n",
    "#print(df_xscjb.columns)\n",
    "#df_xscjb.dtypes\n",
    "df_xscjb.info()    #(3813515, 45)/(3810319, 45)/(3810319, 22)\n"
   ]
  },
  {
   "cell_type": "markdown",
   "metadata": {},
   "source": [
    "### 成绩表字段说明\n",
    "字段名\t字段说明\t字段类型\t字段长度\n",
    "BFZCJ\t百分制成绩\tNUMBER\t22\n",
    "BZXX\t备注信息\tVARCHAR2\t200\n",
    "CJ\t??\tVARCHAR2\t32\n",
    "CJBZ\t????\tVARCHAR2\t200\n",
    "CJXZM\t?????(?????????????????????)\tVARCHAR2\t4\n",
    "CZSJ\t操作时间\tVARCHAR2\t20\n",
    "JD\t绩点\tNUMBER\t22\n",
    "JXB_ID\t教学班ID\tVARCHAR2\t42\n",
    "KCBJ\t?????0???1???2????3????\tVARCHAR2\t4\n",
    "KCGSDM\t课程归属代码\tVARCHAR2\t8\n",
    "KCH\t课程号\tVARCHAR2\t20\n",
    "KCH_ID\t课程号ID\tVARCHAR2\t32\n",
    "KCLBDM\t课程类别代码\tVARCHAR2\t8\n",
    "KCMC\t课程名称\tVARCHAR2\t100\n",
    "KCXZ\t课程性质\tVARCHAR2\t50\n",
    "KCXZDM\t课程性质代码\tVARCHAR2\t8\n",
    "XH_ID\t学号ID\tVARCHAR2\t32\n",
    "XNM\t学年码\tVARCHAR2\t4\n",
    "XQM\t学期码\tVARCHAR2\t2\n"
   ]
  },
  {
   "cell_type": "markdown",
   "metadata": {},
   "source": [
    "### 数据清洗"
   ]
  },
  {
   "cell_type": "markdown",
   "metadata": {},
   "source": [
    "#### 1.删除无效数据列：※需要删除\n",
    "'Unnamed: 0'/\n",
    "BKBFZCJ\t最高补考百分制成绩\tNUMBER\t22※\n",
    "BKBZ\t最高补考成绩备注\tVARCHAR2\t200※\n",
    "BKCJ\t最高补考成绩\tVARCHAR2\t32※\n",
    "BKCS\t补考次数\tVARCHAR2\t2※\n",
    "BKJD\t最高补考成绩绩点\tNUMBER\t22※\n",
    "CJZT\t成绩状态；1表示提交；3表示审核通过\tVARCHAR2\t2※\n",
    "HKBFZCJ\t缓考百分制成绩\tNUMBER\t22※\n",
    "HKBZ\t缓考成绩备注\tVARCHAR2\t200※\n",
    "HKCJ\t缓考成绩\tVARCHAR2\t32※\n",
    "HKJD\t缓考成绩绩点\tNUMBER\t22※\n",
    "JMBFZCJ\t加密百分制成绩\tVARCHAR2\t32※\n",
    "JMCJ\t加密成绩\tVARCHAR2\t32※\n",
    "JMJD\t加密绩点\tVARCHAR2\t32※\n",
    "KCXZSFQR\t课程性质是否确认：默认0可以处理，1不可以处理\tVARCHAR2\t2※\n",
    "KCYWMC\t课程英文名称\tVARCHAR2\t160※\n",
    "LCJF\t历次加分（多次加分用逗号隔开）\tVARCHAR2\t300※\n",
    "LCJFCJ\t历次加分后成绩（多次加分后成绩用逗号隔开）\tVARCHAR2\t300※\n",
    "LCJFJD\t历次加分后绩点（多次加分后绩点用逗号隔开）\tVARCHAR2\t300※\n",
    "SFSCEWM\t是否生成二维码（0 未生成、1 已生成）\tVARCHAR2\t1※\n",
    "SFYJF\t是否有加分0表示否，1表示是\tVARCHAR2\t2※\n",
    "SSKCH_ID\t所属课程号ID\tVARCHAR2\t32※\n",
    "YSBFZCJ\t原始百分制成绩\tNUMBER\t22※\n",
    "YSCJ\t原始成绩\tVARCHAR2\t32※\n",
    "YSJD\t原始绩点\tNUMBER\t22※"
   ]
  },
  {
   "cell_type": "code",
   "execution_count": 5,
   "metadata": {
    "collapsed": true
   },
   "outputs": [],
   "source": [
    "#list_drop=['BKBFZCJ','BKBZ','BKCJ','BKCS','BKJD','CJZT','HKBFZCJ','HKBZ','HKCJ','HKJD','JMBFZCJ',\\\n",
    "#          'JMCJ','JMJD','KCXZSFQR','KCYWMC','LCJF','LCJFCJ','LCJFJD','SFSCEWM','SFYJF','SSKCH_ID',\\\n",
    "#          'YSBFZCJ','YSCJ','YSJD']\n",
    "#df_xscjb.drop(list_drop,axis=1, inplace=True)   #只需执行一次"
   ]
  },
  {
   "cell_type": "code",
   "execution_count": 6,
   "metadata": {},
   "outputs": [
    {
     "name": "stdout",
     "output_type": "stream",
     "text": [
      "<class 'pandas.core.frame.DataFrame'>\n",
      "RangeIndex: 3810319 entries, 0 to 3810318\n",
      "Data columns (total 22 columns):\n",
      "XNM       int64\n",
      "XQM       int64\n",
      "KCH_ID    object\n",
      "JXB_ID    object\n",
      "XH_ID     object\n",
      "CJ        object\n",
      "BFZCJ     float64\n",
      "CJBZ      object\n",
      "JD        float64\n",
      "CJXZM     int64\n",
      "KCBJ      int64\n",
      "KCXZ      object\n",
      "XF        float64\n",
      "KCXZDM    object\n",
      "BZXX      object\n",
      "KCH       object\n",
      "KCMC      object\n",
      "KCLBDM    float64\n",
      "KCGSDM    object\n",
      "CZSJ      object\n",
      "JSGH      object\n",
      "JSXM      object\n",
      "dtypes: float64(4), int64(4), object(14)\n",
      "memory usage: 639.5+ MB\n"
     ]
    }
   ],
   "source": [
    "df_xscjb.info()"
   ]
  },
  {
   "cell_type": "code",
   "execution_count": 7,
   "metadata": {
    "collapsed": true
   },
   "outputs": [],
   "source": [
    "#df_xscjb.to_csv(file_name,index=False)\n",
    "#已执行后保存"
   ]
  },
  {
   "cell_type": "markdown",
   "metadata": {},
   "source": [
    "#### 2.删除没有课程名称（KCMC）的成绩\n",
    "原因：\n",
    "1、历史数据，数据迁移时迁移不完整，课程库可能已删除（待修复）\n",
    "2、后台导入数据，导入时数据不完整（已修复）"
   ]
  },
  {
   "cell_type": "code",
   "execution_count": 14,
   "metadata": {
    "collapsed": true
   },
   "outputs": [],
   "source": [
    "#index_drop=df_xscjb[df_xscjb['KCMC'].isnull()].index  #2785\n",
    "#index_drop\n",
    "#df_xscjb.drop(index_drop,inplace=True)  #根据索引值删除\n",
    "#df_xscjb.info()   #3813515/3810730"
   ]
  },
  {
   "cell_type": "code",
   "execution_count": 7,
   "metadata": {
    "collapsed": true
   },
   "outputs": [],
   "source": [
    "#df_xscjb.to_csv(file_name,index=False)\n",
    "#已执行后保存"
   ]
  },
  {
   "cell_type": "markdown",
   "metadata": {},
   "source": [
    "#### 3.没有百分制成绩（BFZCJ）\n",
    "原因：\n",
    "1、此成绩为“缓考”、“取消”等，属于正常情况，有记录，但无BFZCJ   411条记录"
   ]
  },
  {
   "cell_type": "code",
   "execution_count": 8,
   "metadata": {
    "collapsed": true
   },
   "outputs": [],
   "source": [
    "#df_xscjb[df_xscjb['BFZCJ'].isnull()]  #411\n",
    "#index_drop=df_xscjb[df_xscjb['BFZCJ'].isnull()].index\n",
    "#index_drop\n",
    "#df_xscjb.drop(index_drop,inplace=True)\n",
    "#已执行后保存"
   ]
  },
  {
   "cell_type": "code",
   "execution_count": 11,
   "metadata": {
    "collapsed": true
   },
   "outputs": [],
   "source": [
    "#df_xscjb.info()"
   ]
  },
  {
   "cell_type": "code",
   "execution_count": 10,
   "metadata": {
    "collapsed": true
   },
   "outputs": [],
   "source": [
    "#df_xscjb.to_csv(file_name,index=False)"
   ]
  },
  {
   "cell_type": "markdown",
   "metadata": {},
   "source": [
    "#### 4.增加教师信息：教师工号（JSGH）、教师姓名（JSXM）\n",
    "原因：\n",
    "1、后台导入成绩数据，没有包含教师信息（以后可避免，尽量不要后台导入成绩数据）\n",
    "2、前台补录成绩，没有指定具体教师（属于正常情况）"
   ]
  },
  {
   "cell_type": "markdown",
   "metadata": {},
   "source": [
    "##### 4.1引入教师基本数据：jsjbxxb20190214.csv"
   ]
  },
  {
   "cell_type": "code",
   "execution_count": 16,
   "metadata": {
    "collapsed": true
   },
   "outputs": [],
   "source": [
    "#df_jsjbxxb=pd.read_csv('data/jsjbxxb20190214.csv',usecols=['JGH_ID','JGH','XM'])\n",
    "#df_jsjbxxb.head()"
   ]
  },
  {
   "cell_type": "code",
   "execution_count": 15,
   "metadata": {
    "collapsed": true
   },
   "outputs": [],
   "source": [
    "#df_jsjbxxb.info()"
   ]
  },
  {
   "cell_type": "markdown",
   "metadata": {},
   "source": [
    "##### 4.2 将教师JGH和XM加入成绩表数据"
   ]
  },
  {
   "cell_type": "code",
   "execution_count": 38,
   "metadata": {
    "collapsed": true
   },
   "outputs": [],
   "source": [
    "#result=pd.merge(df_xscjb,df_jsjbxxb,on='JGH_ID')\n",
    "#result.head()"
   ]
  },
  {
   "cell_type": "markdown",
   "metadata": {},
   "source": [
    "##### 4.3 没有教师信息的成绩"
   ]
  },
  {
   "cell_type": "code",
   "execution_count": 13,
   "metadata": {},
   "outputs": [
    {
     "data": {
      "text/plain": [
       "1309889"
      ]
     },
     "execution_count": 13,
     "metadata": {},
     "output_type": "execute_result"
    }
   ],
   "source": [
    "#df_xscjb[df_xscjb.JSXX.isnull()]\n",
    "#len(df_xscjb[df_xscjb.JSXX.isnull()])  #1309889"
   ]
  },
  {
   "cell_type": "markdown",
   "metadata": {},
   "source": [
    "##### 4.3.1 保存没有教师信息的成绩到本地cjb_noteacher.csv"
   ]
  },
  {
   "cell_type": "code",
   "execution_count": 13,
   "metadata": {},
   "outputs": [],
   "source": [
    "#df_cjb_no_teacher=df_xscjb[df_xscjb.JSXX.isnull()]\n",
    "#df_cjb_no_teacher.head()"
   ]
  },
  {
   "cell_type": "code",
   "execution_count": 19,
   "metadata": {
    "collapsed": true
   },
   "outputs": [],
   "source": [
    "#df_cjb_no_teacher.to_csv('data/cjb_noteacher.csv',index=False)\n",
    "#已保存"
   ]
  },
  {
   "cell_type": "markdown",
   "metadata": {
    "collapsed": true
   },
   "source": [
    "##### 6. 课程教师信息处理 JSXX\n",
    "原因：\n",
    "1、成绩库只有JSXX字段，是一个合并字段，需拆分（已完成）"
   ]
  },
  {
   "cell_type": "code",
   "execution_count": 12,
   "metadata": {},
   "outputs": [],
   "source": [
    "#df_xscjb['JSXX'].tail()    #200000009/朱敏卓/无"
   ]
  },
  {
   "cell_type": "code",
   "execution_count": 13,
   "metadata": {
    "collapsed": true
   },
   "outputs": [],
   "source": [
    "#df_xscjb_jsxx=df_xscjb['JSXX'].str.split(pat='/',n=2,expand=True)"
   ]
  },
  {
   "cell_type": "code",
   "execution_count": 11,
   "metadata": {},
   "outputs": [],
   "source": [
    "#df_xscjb_jsxx.rename(columns={0:'JSGH',1:'JSXM',2:'NOMANE'},inplace=True)\n",
    "#df_xscjb_jsxx.columns\n",
    "#d:\\ProgramData\\Anaconda3\\lib\\site-packages\\ipykernel_launcher.py:1: UserWarning: \n",
    "#Pandas doesn't allow columns to be created via a new attribute name - \n",
    "#see https://pandas.pydata.org/pandas-docs/stable/indexing.html#attribute-access\n",
    "#df_xscjb_jsxx.cloumns=['JSGH','JSXM','NOMANE']\n",
    "\n",
    "#df_xscjb_jsxx.tail()"
   ]
  },
  {
   "cell_type": "code",
   "execution_count": 26,
   "metadata": {
    "collapsed": true
   },
   "outputs": [],
   "source": [
    "#删除NOMANE列\n",
    "#df_xscjb_jsxx.drop(['NOMANE'],axis=1,inplace=True)"
   ]
  },
  {
   "cell_type": "code",
   "execution_count": 10,
   "metadata": {},
   "outputs": [],
   "source": [
    "#df_xscjb_jsxx.tail()"
   ]
  },
  {
   "cell_type": "code",
   "execution_count": 31,
   "metadata": {
    "collapsed": true
   },
   "outputs": [],
   "source": [
    "#根据索引index，合并到成绩库\n",
    "#df_xscjb=df_xscjb.join(df_xscjb_jsxx)"
   ]
  },
  {
   "cell_type": "code",
   "execution_count": 9,
   "metadata": {},
   "outputs": [],
   "source": [
    "#df_xscjb.tail()"
   ]
  },
  {
   "cell_type": "code",
   "execution_count": null,
   "metadata": {
    "collapsed": true
   },
   "outputs": [],
   "source": [
    "#删除JSXX\n",
    "#list_drop=['JSXX']\n",
    "#df_xscjb.drop(list_drop,axis=1, inplace=True)   #只需执行一次"
   ]
  },
  {
   "cell_type": "code",
   "execution_count": 36,
   "metadata": {
    "collapsed": true
   },
   "outputs": [],
   "source": [
    "#df_xscjb[df_xscjb.JSGH=='200300056']   #速度较慢"
   ]
  },
  {
   "cell_type": "code",
   "execution_count": 37,
   "metadata": {
    "collapsed": true
   },
   "outputs": [],
   "source": [
    "#df_xscjb.iloc[3810317]   #速度快"
   ]
  },
  {
   "cell_type": "code",
   "execution_count": 39,
   "metadata": {
    "collapsed": true
   },
   "outputs": [],
   "source": [
    "#df_xscjb.to_csv(file_name,index=False)\n",
    "#已保存修改"
   ]
  },
  {
   "cell_type": "code",
   "execution_count": null,
   "metadata": {
    "collapsed": true
   },
   "outputs": [],
   "source": []
  },
  {
   "cell_type": "code",
   "execution_count": null,
   "metadata": {
    "collapsed": true
   },
   "outputs": [],
   "source": []
  },
  {
   "cell_type": "markdown",
   "metadata": {
    "collapsed": true
   },
   "source": [
    "### 保存数据文件\n",
    "在使用DataFrame的to_csv保存文件的时候，会默认使用逗号作为分隔符，如果没有设置行列索引，也没有禁用行列索引保存的话，保存文件的时候，会默认加上由0开始的行列索引。"
   ]
  },
  {
   "cell_type": "code",
   "execution_count": 19,
   "metadata": {
    "collapsed": true
   },
   "outputs": [],
   "source": [
    "#df_xscjb.to_csv(file_name,index=False)"
   ]
  },
  {
   "cell_type": "code",
   "execution_count": null,
   "metadata": {
    "collapsed": true
   },
   "outputs": [],
   "source": []
  },
  {
   "cell_type": "code",
   "execution_count": null,
   "metadata": {
    "collapsed": true
   },
   "outputs": [],
   "source": []
  }
 ],
 "metadata": {
  "kernelspec": {
   "display_name": "Python 3",
   "language": "python",
   "name": "python3"
  },
  "language_info": {
   "codemirror_mode": {
    "name": "ipython",
    "version": 3
   },
   "file_extension": ".py",
   "mimetype": "text/x-python",
   "name": "python",
   "nbconvert_exporter": "python",
   "pygments_lexer": "ipython3",
   "version": "3.6.3"
  }
 },
 "nbformat": 4,
 "nbformat_minor": 2
}
