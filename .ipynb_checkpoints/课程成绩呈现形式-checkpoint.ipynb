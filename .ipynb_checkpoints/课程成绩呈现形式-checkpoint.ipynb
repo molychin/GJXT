{
 "cells": [
  {
   "cell_type": "markdown",
   "metadata": {},
   "source": [
    "## 课程成绩呈现形式"
   ]
  },
  {
   "cell_type": "code",
   "execution_count": 28,
   "metadata": {
    "collapsed": true
   },
   "outputs": [],
   "source": [
    "import numpy as np\n",
    "import pandas as pd\n",
    "import matplotlib as mpl\n",
    "import matplotlib.pyplot as plt\n",
    "import os   \n",
    "\n",
    "#%matplotlib inline\n",
    "plt.rcdefaults()\n",
    "plt.rcParams['font.sans-serif']=['SimHei'] #用来正常显示中文标签\n",
    "plt.rcParams['figure.figsize']=[6,6] #改变显示图形的大小"
   ]
  },
  {
   "cell_type": "markdown",
   "metadata": {},
   "source": [
    "### 以高燕老师为例：2018-2019-1学期"
   ]
  },
  {
   "cell_type": "code",
   "execution_count": 4,
   "metadata": {},
   "outputs": [
    {
     "data": {
      "text/html": [
       "<div>\n",
       "<style scoped>\n",
       "    .dataframe tbody tr th:only-of-type {\n",
       "        vertical-align: middle;\n",
       "    }\n",
       "\n",
       "    .dataframe tbody tr th {\n",
       "        vertical-align: top;\n",
       "    }\n",
       "\n",
       "    .dataframe thead th {\n",
       "        text-align: right;\n",
       "    }\n",
       "</style>\n",
       "<table border=\"1\" class=\"dataframe\">\n",
       "  <thead>\n",
       "    <tr style=\"text-align: right;\">\n",
       "      <th></th>\n",
       "      <th>XNM</th>\n",
       "      <th>XQM</th>\n",
       "      <th>BFZCJ</th>\n",
       "      <th>KCH</th>\n",
       "      <th>KCMC</th>\n",
       "      <th>JSGH</th>\n",
       "      <th>JSXM</th>\n",
       "    </tr>\n",
       "  </thead>\n",
       "  <tbody>\n",
       "    <tr>\n",
       "      <th>0</th>\n",
       "      <td>2018</td>\n",
       "      <td>3</td>\n",
       "      <td>83.0</td>\n",
       "      <td>A0940095</td>\n",
       "      <td>Oracle数据库应用</td>\n",
       "      <td>199000177</td>\n",
       "      <td>高燕</td>\n",
       "    </tr>\n",
       "    <tr>\n",
       "      <th>1</th>\n",
       "      <td>2018</td>\n",
       "      <td>3</td>\n",
       "      <td>0.0</td>\n",
       "      <td>A0920014</td>\n",
       "      <td>数据库原理与应用</td>\n",
       "      <td>199000177</td>\n",
       "      <td>高燕</td>\n",
       "    </tr>\n",
       "    <tr>\n",
       "      <th>2</th>\n",
       "      <td>2018</td>\n",
       "      <td>3</td>\n",
       "      <td>56.0</td>\n",
       "      <td>A0920014</td>\n",
       "      <td>数据库原理与应用</td>\n",
       "      <td>199000177</td>\n",
       "      <td>高燕</td>\n",
       "    </tr>\n",
       "    <tr>\n",
       "      <th>3</th>\n",
       "      <td>2018</td>\n",
       "      <td>3</td>\n",
       "      <td>57.0</td>\n",
       "      <td>A0920014</td>\n",
       "      <td>数据库原理与应用</td>\n",
       "      <td>199000177</td>\n",
       "      <td>高燕</td>\n",
       "    </tr>\n",
       "    <tr>\n",
       "      <th>4</th>\n",
       "      <td>2018</td>\n",
       "      <td>3</td>\n",
       "      <td>57.0</td>\n",
       "      <td>A0920014</td>\n",
       "      <td>数据库原理与应用</td>\n",
       "      <td>199000177</td>\n",
       "      <td>高燕</td>\n",
       "    </tr>\n",
       "  </tbody>\n",
       "</table>\n",
       "</div>"
      ],
      "text/plain": [
       "    XNM  XQM  BFZCJ       KCH         KCMC       JSGH JSXM\n",
       "0  2018    3   83.0  A0940095  Oracle数据库应用  199000177   高燕\n",
       "1  2018    3    0.0  A0920014     数据库原理与应用  199000177   高燕\n",
       "2  2018    3   56.0  A0920014     数据库原理与应用  199000177   高燕\n",
       "3  2018    3   57.0  A0920014     数据库原理与应用  199000177   高燕\n",
       "4  2018    3   57.0  A0920014     数据库原理与应用  199000177   高燕"
      ]
     },
     "execution_count": 4,
     "metadata": {},
     "output_type": "execute_result"
    }
   ],
   "source": [
    "df_jscj=pd.read_csv('data/gaoyan.csv')\n",
    "df_jscj.head()"
   ]
  },
  {
   "cell_type": "markdown",
   "metadata": {},
   "source": [
    "#### 糖葫芦图：plot+条形图：bar"
   ]
  },
  {
   "cell_type": "code",
   "execution_count": 59,
   "metadata": {},
   "outputs": [
    {
     "data": {
      "text/html": [
       "<div>\n",
       "<style scoped>\n",
       "    .dataframe tbody tr th:only-of-type {\n",
       "        vertical-align: middle;\n",
       "    }\n",
       "\n",
       "    .dataframe tbody tr th {\n",
       "        vertical-align: top;\n",
       "    }\n",
       "\n",
       "    .dataframe thead th {\n",
       "        text-align: right;\n",
       "    }\n",
       "</style>\n",
       "<table border=\"1\" class=\"dataframe\">\n",
       "  <thead>\n",
       "    <tr style=\"text-align: right;\">\n",
       "      <th></th>\n",
       "      <th>JSGH</th>\n",
       "      <th>KCMC</th>\n",
       "      <th>BFZCJ</th>\n",
       "      <th>XNM</th>\n",
       "      <th>XQM</th>\n",
       "      <th>KCH</th>\n",
       "      <th>JSXM</th>\n",
       "    </tr>\n",
       "  </thead>\n",
       "  <tbody>\n",
       "    <tr>\n",
       "      <th>0</th>\n",
       "      <td>199000177</td>\n",
       "      <td>Oracle数据库应用</td>\n",
       "      <td>0.0</td>\n",
       "      <td>2</td>\n",
       "      <td>2</td>\n",
       "      <td>2</td>\n",
       "      <td>2</td>\n",
       "    </tr>\n",
       "    <tr>\n",
       "      <th>1</th>\n",
       "      <td>199000177</td>\n",
       "      <td>Oracle数据库应用</td>\n",
       "      <td>34.0</td>\n",
       "      <td>2</td>\n",
       "      <td>2</td>\n",
       "      <td>2</td>\n",
       "      <td>2</td>\n",
       "    </tr>\n",
       "    <tr>\n",
       "      <th>2</th>\n",
       "      <td>199000177</td>\n",
       "      <td>Oracle数据库应用</td>\n",
       "      <td>39.0</td>\n",
       "      <td>1</td>\n",
       "      <td>1</td>\n",
       "      <td>1</td>\n",
       "      <td>1</td>\n",
       "    </tr>\n",
       "    <tr>\n",
       "      <th>3</th>\n",
       "      <td>199000177</td>\n",
       "      <td>Oracle数据库应用</td>\n",
       "      <td>41.0</td>\n",
       "      <td>1</td>\n",
       "      <td>1</td>\n",
       "      <td>1</td>\n",
       "      <td>1</td>\n",
       "    </tr>\n",
       "    <tr>\n",
       "      <th>4</th>\n",
       "      <td>199000177</td>\n",
       "      <td>Oracle数据库应用</td>\n",
       "      <td>42.0</td>\n",
       "      <td>1</td>\n",
       "      <td>1</td>\n",
       "      <td>1</td>\n",
       "      <td>1</td>\n",
       "    </tr>\n",
       "  </tbody>\n",
       "</table>\n",
       "</div>"
      ],
      "text/plain": [
       "        JSGH         KCMC  BFZCJ  XNM  XQM  KCH  JSXM\n",
       "0  199000177  Oracle数据库应用    0.0    2    2    2     2\n",
       "1  199000177  Oracle数据库应用   34.0    2    2    2     2\n",
       "2  199000177  Oracle数据库应用   39.0    1    1    1     1\n",
       "3  199000177  Oracle数据库应用   41.0    1    1    1     1\n",
       "4  199000177  Oracle数据库应用   42.0    1    1    1     1"
      ]
     },
     "execution_count": 59,
     "metadata": {},
     "output_type": "execute_result"
    }
   ],
   "source": [
    "df_jscj_kc=df_jscj.groupby(['JSGH','KCMC','BFZCJ']).count()\n",
    "df_jscj_kc.reset_index(inplace=True)\n",
    "df_jscj_kc.head()"
   ]
  },
  {
   "cell_type": "code",
   "execution_count": 60,
   "metadata": {},
   "outputs": [],
   "source": [
    "point_size=120     #图像点的大小\n",
    "df_jscj_kc.insert(0,'SCALE',df_jscj_kc.KCH*point_size)  #增加比例人数，只执行一次\n",
    "df_jscj_kc.head()\n",
    "\n",
    "num_course=len(df_jscj_kc.groupby('KCMC').count())   #课程数"
   ]
  },
  {
   "cell_type": "code",
   "execution_count": 61,
   "metadata": {
    "collapsed": true
   },
   "outputs": [],
   "source": [
    "fig,axs=plt.subplots(1,1)\n",
    "fig.figure=[4+num_course,6]\n",
    "axs.grid()"
   ]
  },
  {
   "cell_type": "markdown",
   "metadata": {},
   "source": [
    "#### 糖葫芦图：plot"
   ]
  },
  {
   "cell_type": "code",
   "execution_count": 54,
   "metadata": {},
   "outputs": [
    {
     "data": {
      "image/png": "[encoded data removed]",
      "text/plain": [
       "<Figure size 600x600 with 1 Axes>"
      ]
     },
     "metadata": {},
     "output_type": "display_data"
    }
   ],
   "source": [
    "axs.scatter('KCMC','BFZCJ','SCALE',data=df_jscj_kc)\n",
    "axs.plot([-1,num_course],[60,60],'r-.')\n",
    "\n",
    "fig.suptitle(\"教师单学期成绩分析呈现\")\n",
    "axs.set_xlabel('课程名称')\n",
    "axs.set_ylabel('课程成绩')\n",
    "axs.set_yticks(np.arange(0,101,5))\n",
    "\n",
    "plt.show()"
   ]
  },
  {
   "cell_type": "markdown",
   "metadata": {},
   "source": [
    "#### 条形图：bar -》不成功"
   ]
  },
  {
   "cell_type": "code",
   "execution_count": 72,
   "metadata": {},
   "outputs": [
    {
     "data": {
      "image/png": "[encoded data removed]",
      "text/plain": [
       "<Figure size 600x600 with 1 Axes>"
      ]
     },
     "metadata": {},
     "output_type": "display_data"
    }
   ],
   "source": [
    "fig,axs=plt.subplots(1,1)\n",
    "fig.figure=[4+num_course,6]\n",
    "axs.grid()\n",
    "\n",
    "#axs.bar(df_jscj_kc.BFZCJ,df_jscj_kc.KCH)\n",
    "#axs.bar('BFZCJ','KCH',data=df_jscj_kc)\n",
    "axs.barh('BFZCJ','KCH',data=df_jscj_kc)\n",
    "plt.show()"
   ]
  },
  {
   "cell_type": "markdown",
   "metadata": {},
   "source": [
    "#### 箱图：boxplot+琴箱图violinplot"
   ]
  },
  {
   "cell_type": "code",
   "execution_count": null,
   "metadata": {
    "collapsed": true
   },
   "outputs": [],
   "source": []
  },
  {
   "cell_type": "code",
   "execution_count": null,
   "metadata": {
    "collapsed": true
   },
   "outputs": [],
   "source": []
  }
 ],
 "metadata": {
  "kernelspec": {
   "display_name": "Python 3",
   "language": "python",
   "name": "python3"
  },
  "language_info": {
   "codemirror_mode": {
    "name": "ipython",
    "version": 3
   },
   "file_extension": ".py",
   "mimetype": "text/x-python",
   "name": "python",
   "nbconvert_exporter": "python",
   "pygments_lexer": "ipython3",
   "version": "3.6.3"
  }
 },
 "nbformat": 4,
 "nbformat_minor": 2
}
