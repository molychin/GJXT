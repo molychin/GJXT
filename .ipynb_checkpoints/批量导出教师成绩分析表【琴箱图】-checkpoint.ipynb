{
 "cells": [
  {
   "cell_type": "markdown",
   "metadata": {},
   "source": [
    "## 批量导出教师成绩分析表【糖葫芦图+箱图】★"
   ]
  },
  {
   "cell_type": "code",
   "execution_count": 1,
   "metadata": {
    "collapsed": true
   },
   "outputs": [],
   "source": [
    "import numpy as np\n",
    "import pandas as pd\n",
    "import matplotlib as mpl\n",
    "import matplotlib.pyplot as plt\n",
    "import os   \n",
    "\n",
    "#%matplotlib inline\n",
    "plt.rcdefaults()\n",
    "plt.rcParams['font.sans-serif']=['SimHei'] #用来正常显示中文标签\n",
    "plt.rcParams['figure.figsize']=[14,10] #改变显示图形的大小"
   ]
  },
  {
   "cell_type": "code",
   "execution_count": 2,
   "metadata": {},
   "outputs": [
    {
     "name": "stderr",
     "output_type": "stream",
     "text": [
      "d:\\ProgramData\\Anaconda3\\lib\\site-packages\\IPython\\core\\interactiveshell.py:2698: DtypeWarning: Columns (20) have mixed types. Specify dtype option on import or set low_memory=False.\n",
      "  interactivity=interactivity, compiler=compiler, result=result)\n"
     ]
    }
   ],
   "source": [
    "file_name='data/xscjb20190215.csv'\n",
    "fields=['XNM','XQM','JSGH','JSXM','KCH','KCMC','BFZCJ']\n",
    "df_cjb_js_term=pd.read_csv(file_name,usecols=fields,dtype={'XNM':np.object,'XQM':np.object})"
   ]
  },
  {
   "cell_type": "code",
   "execution_count": 3,
   "metadata": {},
   "outputs": [
    {
     "name": "stdout",
     "output_type": "stream",
     "text": [
      "<class 'pandas.core.frame.DataFrame'>\n",
      "RangeIndex: 3813515 entries, 0 to 3813514\n",
      "Data columns (total 7 columns):\n",
      "XNM      object\n",
      "XQM      object\n",
      "BFZCJ    float64\n",
      "KCH      object\n",
      "KCMC     object\n",
      "JSGH     object\n",
      "JSXM     object\n",
      "dtypes: float64(1), object(6)\n",
      "memory usage: 203.7+ MB\n"
     ]
    }
   ],
   "source": [
    "df_cjb_js_term.tail()\n",
    "df_cjb_js_term.info()"
   ]
  },
  {
   "cell_type": "markdown",
   "metadata": {},
   "source": [
    "### 获取指定学期的数据（XNM='2018-2019'  XQM='3'）"
   ]
  },
  {
   "cell_type": "code",
   "execution_count": 5,
   "metadata": {},
   "outputs": [
    {
     "data": {
      "text/html": [
       "<div>\n",
       "<style scoped>\n",
       "    .dataframe tbody tr th:only-of-type {\n",
       "        vertical-align: middle;\n",
       "    }\n",
       "\n",
       "    .dataframe tbody tr th {\n",
       "        vertical-align: top;\n",
       "    }\n",
       "\n",
       "    .dataframe thead th {\n",
       "        text-align: right;\n",
       "    }\n",
       "</style>\n",
       "<table border=\"1\" class=\"dataframe\">\n",
       "  <thead>\n",
       "    <tr style=\"text-align: right;\">\n",
       "      <th></th>\n",
       "      <th>XNM</th>\n",
       "      <th>XQM</th>\n",
       "      <th>BFZCJ</th>\n",
       "      <th>KCH</th>\n",
       "      <th>KCMC</th>\n",
       "      <th>JSGH</th>\n",
       "      <th>JSXM</th>\n",
       "    </tr>\n",
       "  </thead>\n",
       "  <tbody>\n",
       "    <tr>\n",
       "      <th>3636592</th>\n",
       "      <td>2018</td>\n",
       "      <td>3</td>\n",
       "      <td>60.0</td>\n",
       "      <td>02300083</td>\n",
       "      <td>宏观经济学</td>\n",
       "      <td>NaN</td>\n",
       "      <td>无</td>\n",
       "    </tr>\n",
       "    <tr>\n",
       "      <th>3636593</th>\n",
       "      <td>2018</td>\n",
       "      <td>3</td>\n",
       "      <td>86.0</td>\n",
       "      <td>02300083</td>\n",
       "      <td>宏观经济学</td>\n",
       "      <td>NaN</td>\n",
       "      <td>无</td>\n",
       "    </tr>\n",
       "    <tr>\n",
       "      <th>3636594</th>\n",
       "      <td>2018</td>\n",
       "      <td>3</td>\n",
       "      <td>60.0</td>\n",
       "      <td>09100101</td>\n",
       "      <td>大学信息技术</td>\n",
       "      <td>NaN</td>\n",
       "      <td>无</td>\n",
       "    </tr>\n",
       "    <tr>\n",
       "      <th>3636595</th>\n",
       "      <td>2018</td>\n",
       "      <td>3</td>\n",
       "      <td>60.0</td>\n",
       "      <td>T1000417</td>\n",
       "      <td>大学体育3（男子篮球）</td>\n",
       "      <td>NaN</td>\n",
       "      <td>无</td>\n",
       "    </tr>\n",
       "    <tr>\n",
       "      <th>3636596</th>\n",
       "      <td>2018</td>\n",
       "      <td>3</td>\n",
       "      <td>60.0</td>\n",
       "      <td>30300003</td>\n",
       "      <td>入学教育</td>\n",
       "      <td>NaN</td>\n",
       "      <td>无</td>\n",
       "    </tr>\n",
       "  </tbody>\n",
       "</table>\n",
       "</div>"
      ],
      "text/plain": [
       "          XNM XQM  BFZCJ       KCH         KCMC JSGH JSXM\n",
       "3636592  2018   3   60.0  02300083        宏观经济学  NaN    无\n",
       "3636593  2018   3   86.0  02300083        宏观经济学  NaN    无\n",
       "3636594  2018   3   60.0  09100101       大学信息技术  NaN    无\n",
       "3636595  2018   3   60.0  T1000417  大学体育3（男子篮球）  NaN    无\n",
       "3636596  2018   3   60.0  30300003         入学教育  NaN    无"
      ]
     },
     "execution_count": 5,
     "metadata": {},
     "output_type": "execute_result"
    }
   ],
   "source": [
    "df_cjb_sinterm=df_cjb_js_term[(df_cjb_js_term.XNM=='2018') & (df_cjb_js_term.XQM=='3')]   #176923 rows × 7 columns\n",
    "#df_cjb_sinterm=df_cjb_js_term\n",
    "df_cjb_sinterm.head()"
   ]
  },
  {
   "cell_type": "markdown",
   "metadata": {},
   "source": [
    "#### 载入教师基本信息表"
   ]
  },
  {
   "cell_type": "code",
   "execution_count": 6,
   "metadata": {},
   "outputs": [
    {
     "name": "stdout",
     "output_type": "stream",
     "text": [
      "<class 'pandas.core.frame.DataFrame'>\n",
      "RangeIndex: 3132 entries, 0 to 3131\n",
      "Data columns (total 2 columns):\n",
      "JGH      3132 non-null object\n",
      "JG_ID    2787 non-null object\n",
      "dtypes: object(2)\n",
      "memory usage: 49.0+ KB\n"
     ]
    }
   ],
   "source": [
    "file_name_js='data/jsjbxxb20190214.csv'\n",
    "df_teacher=pd.read_csv(file_name_js,usecols=['JGH','JG_ID'])\n",
    "df_teacher.head()\n",
    "df_teacher.info()"
   ]
  },
  {
   "cell_type": "markdown",
   "metadata": {},
   "source": [
    "#### 在成绩库中加入教师部门代码（只需执行1次）"
   ]
  },
  {
   "cell_type": "code",
   "execution_count": 7,
   "metadata": {},
   "outputs": [
    {
     "data": {
      "text/html": [
       "<div>\n",
       "<style scoped>\n",
       "    .dataframe tbody tr th:only-of-type {\n",
       "        vertical-align: middle;\n",
       "    }\n",
       "\n",
       "    .dataframe tbody tr th {\n",
       "        vertical-align: top;\n",
       "    }\n",
       "\n",
       "    .dataframe thead th {\n",
       "        text-align: right;\n",
       "    }\n",
       "</style>\n",
       "<table border=\"1\" class=\"dataframe\">\n",
       "  <thead>\n",
       "    <tr style=\"text-align: right;\">\n",
       "      <th></th>\n",
       "      <th>XNM</th>\n",
       "      <th>XQM</th>\n",
       "      <th>BFZCJ</th>\n",
       "      <th>KCH</th>\n",
       "      <th>KCMC</th>\n",
       "      <th>JSGH</th>\n",
       "      <th>JSXM</th>\n",
       "      <th>JG_ID</th>\n",
       "    </tr>\n",
       "  </thead>\n",
       "  <tbody>\n",
       "    <tr>\n",
       "      <th>3636592</th>\n",
       "      <td>2018</td>\n",
       "      <td>3</td>\n",
       "      <td>60.0</td>\n",
       "      <td>02300083</td>\n",
       "      <td>宏观经济学</td>\n",
       "      <td>NaN</td>\n",
       "      <td>无</td>\n",
       "      <td>NaN</td>\n",
       "    </tr>\n",
       "    <tr>\n",
       "      <th>3636593</th>\n",
       "      <td>2018</td>\n",
       "      <td>3</td>\n",
       "      <td>86.0</td>\n",
       "      <td>02300083</td>\n",
       "      <td>宏观经济学</td>\n",
       "      <td>NaN</td>\n",
       "      <td>无</td>\n",
       "      <td>NaN</td>\n",
       "    </tr>\n",
       "    <tr>\n",
       "      <th>3636594</th>\n",
       "      <td>2018</td>\n",
       "      <td>3</td>\n",
       "      <td>60.0</td>\n",
       "      <td>09100101</td>\n",
       "      <td>大学信息技术</td>\n",
       "      <td>NaN</td>\n",
       "      <td>无</td>\n",
       "      <td>NaN</td>\n",
       "    </tr>\n",
       "    <tr>\n",
       "      <th>3636595</th>\n",
       "      <td>2018</td>\n",
       "      <td>3</td>\n",
       "      <td>60.0</td>\n",
       "      <td>T1000417</td>\n",
       "      <td>大学体育3（男子篮球）</td>\n",
       "      <td>NaN</td>\n",
       "      <td>无</td>\n",
       "      <td>NaN</td>\n",
       "    </tr>\n",
       "    <tr>\n",
       "      <th>3636596</th>\n",
       "      <td>2018</td>\n",
       "      <td>3</td>\n",
       "      <td>60.0</td>\n",
       "      <td>30300003</td>\n",
       "      <td>入学教育</td>\n",
       "      <td>NaN</td>\n",
       "      <td>无</td>\n",
       "      <td>NaN</td>\n",
       "    </tr>\n",
       "  </tbody>\n",
       "</table>\n",
       "</div>"
      ],
      "text/plain": [
       "          XNM XQM  BFZCJ       KCH         KCMC JSGH JSXM JG_ID\n",
       "3636592  2018   3   60.0  02300083        宏观经济学  NaN    无   NaN\n",
       "3636593  2018   3   86.0  02300083        宏观经济学  NaN    无   NaN\n",
       "3636594  2018   3   60.0  09100101       大学信息技术  NaN    无   NaN\n",
       "3636595  2018   3   60.0  T1000417  大学体育3（男子篮球）  NaN    无   NaN\n",
       "3636596  2018   3   60.0  30300003         入学教育  NaN    无   NaN"
      ]
     },
     "execution_count": 7,
     "metadata": {},
     "output_type": "execute_result"
    }
   ],
   "source": [
    "df_cjb_sinterm=df_cjb_sinterm.join(df_teacher.set_index('JGH'),on='JSGH')\n",
    "df_cjb_sinterm.head()"
   ]
  },
  {
   "cell_type": "code",
   "execution_count": 8,
   "metadata": {},
   "outputs": [
    {
     "data": {
      "text/plain": [
       "array(['01', '02', '03', '04', '05', '06', '07', '08', '09', '10', '12',\n",
       "       '15', '16', '17', '24', '28', '29', '30', '32', '33', '34', '36',\n",
       "       '37', '38', '39', '52', '99', nan], dtype=object)"
      ]
     },
     "execution_count": 8,
     "metadata": {},
     "output_type": "execute_result"
    }
   ],
   "source": [
    "#获取部门代码\n",
    "set_jgid=df_cjb_sinterm.JG_ID.drop_duplicates(keep='first')\n",
    "set_jgid.sort_values(inplace=True)\n",
    "set_jgid.values"
   ]
  },
  {
   "cell_type": "code",
   "execution_count": 16,
   "metadata": {
    "collapsed": true
   },
   "outputs": [],
   "source": [
    "def adjacent_values(vals, q1, q3):\n",
    "    upper_adjacent_value = q3 + (q3 - q1) * 1.5\n",
    "    upper_adjacent_value = np.clip(upper_adjacent_value, q3, vals[-1])\n",
    "\n",
    "    lower_adjacent_value = q1 - (q3 - q1) * 1.5\n",
    "    lower_adjacent_value = np.clip(lower_adjacent_value, vals[0], q1)\n",
    "    return lower_adjacent_value, upper_adjacent_value\n",
    "\n",
    "\n",
    "def set_axis_style(ax, labels):\n",
    "    ax.get_xaxis().set_tick_params(direction='out')\n",
    "    ax.xaxis.set_ticks_position('bottom')\n",
    "    ax.set_xticks(np.arange(1, len(labels) + 1))\n",
    "    ax.set_xticklabels(labels)\n",
    "    ax.set_xlim(0.25, len(labels) + 0.75)\n",
    "    ax.set_xlabel('Sample name')"
   ]
  },
  {
   "cell_type": "code",
   "execution_count": 17,
   "metadata": {},
   "outputs": [
    {
     "name": "stdout",
     "output_type": "stream",
     "text": [
      "01 200800090\n"
     ]
    },
    {
     "ename": "AxisError",
     "evalue": "axis 1 is out of bounds for array of dimension 1",
     "output_type": "error",
     "traceback": [
      "\u001b[1;31m---------------------------------------------------------------------------\u001b[0m",
      "\u001b[1;31mAxisError\u001b[0m                                 Traceback (most recent call last)",
      "\u001b[1;32m<ipython-input-17-6123ff11c496>\u001b[0m in \u001b[0;36m<module>\u001b[1;34m()\u001b[0m\n\u001b[0;32m     73\u001b[0m                     \u001b[0mpc\u001b[0m\u001b[1;33m.\u001b[0m\u001b[0mset_alpha\u001b[0m\u001b[1;33m(\u001b[0m\u001b[1;36m1\u001b[0m\u001b[1;33m)\u001b[0m\u001b[1;33m\u001b[0m\u001b[0m\n\u001b[0;32m     74\u001b[0m \u001b[1;33m\u001b[0m\u001b[0m\n\u001b[1;32m---> 75\u001b[1;33m                 \u001b[0mquartile1\u001b[0m\u001b[1;33m,\u001b[0m \u001b[0mmedians\u001b[0m\u001b[1;33m,\u001b[0m \u001b[0mquartile3\u001b[0m \u001b[1;33m=\u001b[0m \u001b[0mnp\u001b[0m\u001b[1;33m.\u001b[0m\u001b[0mpercentile\u001b[0m\u001b[1;33m(\u001b[0m\u001b[0mshow_data\u001b[0m\u001b[1;33m,\u001b[0m \u001b[1;33m[\u001b[0m\u001b[1;36m25\u001b[0m\u001b[1;33m,\u001b[0m \u001b[1;36m50\u001b[0m\u001b[1;33m,\u001b[0m \u001b[1;36m75\u001b[0m\u001b[1;33m]\u001b[0m\u001b[1;33m,\u001b[0m \u001b[0maxis\u001b[0m\u001b[1;33m=\u001b[0m\u001b[1;36m1\u001b[0m\u001b[1;33m)\u001b[0m\u001b[1;33m\u001b[0m\u001b[0m\n\u001b[0m\u001b[0;32m     76\u001b[0m                 whiskers = np.array([\n\u001b[0;32m     77\u001b[0m                     \u001b[0madjacent_values\u001b[0m\u001b[1;33m(\u001b[0m\u001b[0msorted_array\u001b[0m\u001b[1;33m,\u001b[0m \u001b[0mq1\u001b[0m\u001b[1;33m,\u001b[0m \u001b[0mq3\u001b[0m\u001b[1;33m)\u001b[0m\u001b[1;33m\u001b[0m\u001b[0m\n",
      "\u001b[1;32md:\\ProgramData\\Anaconda3\\lib\\site-packages\\numpy\\lib\\function_base.py\u001b[0m in \u001b[0;36mpercentile\u001b[1;34m(a, q, axis, out, overwrite_input, interpolation, keepdims)\u001b[0m\n\u001b[0;32m   4289\u001b[0m     r, k = _ureduce(a, func=_percentile, q=q, axis=axis, out=out,\n\u001b[0;32m   4290\u001b[0m                     \u001b[0moverwrite_input\u001b[0m\u001b[1;33m=\u001b[0m\u001b[0moverwrite_input\u001b[0m\u001b[1;33m,\u001b[0m\u001b[1;33m\u001b[0m\u001b[0m\n\u001b[1;32m-> 4291\u001b[1;33m                     interpolation=interpolation)\n\u001b[0m\u001b[0;32m   4292\u001b[0m     \u001b[1;32mif\u001b[0m \u001b[0mkeepdims\u001b[0m\u001b[1;33m:\u001b[0m\u001b[1;33m\u001b[0m\u001b[0m\n\u001b[0;32m   4293\u001b[0m         \u001b[1;32mreturn\u001b[0m \u001b[0mr\u001b[0m\u001b[1;33m.\u001b[0m\u001b[0mreshape\u001b[0m\u001b[1;33m(\u001b[0m\u001b[0mq\u001b[0m\u001b[1;33m.\u001b[0m\u001b[0mshape\u001b[0m \u001b[1;33m+\u001b[0m \u001b[0mk\u001b[0m\u001b[1;33m)\u001b[0m\u001b[1;33m\u001b[0m\u001b[0m\n",
      "\u001b[1;32md:\\ProgramData\\Anaconda3\\lib\\site-packages\\numpy\\lib\\function_base.py\u001b[0m in \u001b[0;36m_ureduce\u001b[1;34m(a, func, **kwargs)\u001b[0m\n\u001b[0;32m   4011\u001b[0m         \u001b[0mkeepdim\u001b[0m \u001b[1;33m=\u001b[0m \u001b[0mlist\u001b[0m\u001b[1;33m(\u001b[0m\u001b[0ma\u001b[0m\u001b[1;33m.\u001b[0m\u001b[0mshape\u001b[0m\u001b[1;33m)\u001b[0m\u001b[1;33m\u001b[0m\u001b[0m\n\u001b[0;32m   4012\u001b[0m         \u001b[0mnd\u001b[0m \u001b[1;33m=\u001b[0m \u001b[0ma\u001b[0m\u001b[1;33m.\u001b[0m\u001b[0mndim\u001b[0m\u001b[1;33m\u001b[0m\u001b[0m\n\u001b[1;32m-> 4013\u001b[1;33m         \u001b[0maxis\u001b[0m \u001b[1;33m=\u001b[0m \u001b[0m_nx\u001b[0m\u001b[1;33m.\u001b[0m\u001b[0mnormalize_axis_tuple\u001b[0m\u001b[1;33m(\u001b[0m\u001b[0maxis\u001b[0m\u001b[1;33m,\u001b[0m \u001b[0mnd\u001b[0m\u001b[1;33m)\u001b[0m\u001b[1;33m\u001b[0m\u001b[0m\n\u001b[0m\u001b[0;32m   4014\u001b[0m \u001b[1;33m\u001b[0m\u001b[0m\n\u001b[0;32m   4015\u001b[0m         \u001b[1;32mfor\u001b[0m \u001b[0max\u001b[0m \u001b[1;32min\u001b[0m \u001b[0maxis\u001b[0m\u001b[1;33m:\u001b[0m\u001b[1;33m\u001b[0m\u001b[0m\n",
      "\u001b[1;32md:\\ProgramData\\Anaconda3\\lib\\site-packages\\numpy\\core\\numeric.py\u001b[0m in \u001b[0;36mnormalize_axis_tuple\u001b[1;34m(axis, ndim, argname, allow_duplicate)\u001b[0m\n\u001b[0;32m   1504\u001b[0m     \u001b[1;32mexcept\u001b[0m \u001b[0mTypeError\u001b[0m\u001b[1;33m:\u001b[0m\u001b[1;33m\u001b[0m\u001b[0m\n\u001b[0;32m   1505\u001b[0m         \u001b[0maxis\u001b[0m \u001b[1;33m=\u001b[0m \u001b[0mtuple\u001b[0m\u001b[1;33m(\u001b[0m\u001b[0maxis\u001b[0m\u001b[1;33m)\u001b[0m\u001b[1;33m\u001b[0m\u001b[0m\n\u001b[1;32m-> 1506\u001b[1;33m     \u001b[0maxis\u001b[0m \u001b[1;33m=\u001b[0m \u001b[0mtuple\u001b[0m\u001b[1;33m(\u001b[0m\u001b[0mnormalize_axis_index\u001b[0m\u001b[1;33m(\u001b[0m\u001b[0max\u001b[0m\u001b[1;33m,\u001b[0m \u001b[0mndim\u001b[0m\u001b[1;33m,\u001b[0m \u001b[0margname\u001b[0m\u001b[1;33m)\u001b[0m \u001b[1;32mfor\u001b[0m \u001b[0max\u001b[0m \u001b[1;32min\u001b[0m \u001b[0maxis\u001b[0m\u001b[1;33m)\u001b[0m\u001b[1;33m\u001b[0m\u001b[0m\n\u001b[0m\u001b[0;32m   1507\u001b[0m     \u001b[1;32mif\u001b[0m \u001b[1;32mnot\u001b[0m \u001b[0mallow_duplicate\u001b[0m \u001b[1;32mand\u001b[0m \u001b[0mlen\u001b[0m\u001b[1;33m(\u001b[0m\u001b[0mset\u001b[0m\u001b[1;33m(\u001b[0m\u001b[0maxis\u001b[0m\u001b[1;33m)\u001b[0m\u001b[1;33m)\u001b[0m \u001b[1;33m!=\u001b[0m \u001b[0mlen\u001b[0m\u001b[1;33m(\u001b[0m\u001b[0maxis\u001b[0m\u001b[1;33m)\u001b[0m\u001b[1;33m:\u001b[0m\u001b[1;33m\u001b[0m\u001b[0m\n\u001b[0;32m   1508\u001b[0m         \u001b[1;32mif\u001b[0m \u001b[0margname\u001b[0m\u001b[1;33m:\u001b[0m\u001b[1;33m\u001b[0m\u001b[0m\n",
      "\u001b[1;32md:\\ProgramData\\Anaconda3\\lib\\site-packages\\numpy\\core\\numeric.py\u001b[0m in \u001b[0;36m<genexpr>\u001b[1;34m(.0)\u001b[0m\n\u001b[0;32m   1504\u001b[0m     \u001b[1;32mexcept\u001b[0m \u001b[0mTypeError\u001b[0m\u001b[1;33m:\u001b[0m\u001b[1;33m\u001b[0m\u001b[0m\n\u001b[0;32m   1505\u001b[0m         \u001b[0maxis\u001b[0m \u001b[1;33m=\u001b[0m \u001b[0mtuple\u001b[0m\u001b[1;33m(\u001b[0m\u001b[0maxis\u001b[0m\u001b[1;33m)\u001b[0m\u001b[1;33m\u001b[0m\u001b[0m\n\u001b[1;32m-> 1506\u001b[1;33m     \u001b[0maxis\u001b[0m \u001b[1;33m=\u001b[0m \u001b[0mtuple\u001b[0m\u001b[1;33m(\u001b[0m\u001b[0mnormalize_axis_index\u001b[0m\u001b[1;33m(\u001b[0m\u001b[0max\u001b[0m\u001b[1;33m,\u001b[0m \u001b[0mndim\u001b[0m\u001b[1;33m,\u001b[0m \u001b[0margname\u001b[0m\u001b[1;33m)\u001b[0m \u001b[1;32mfor\u001b[0m \u001b[0max\u001b[0m \u001b[1;32min\u001b[0m \u001b[0maxis\u001b[0m\u001b[1;33m)\u001b[0m\u001b[1;33m\u001b[0m\u001b[0m\n\u001b[0m\u001b[0;32m   1507\u001b[0m     \u001b[1;32mif\u001b[0m \u001b[1;32mnot\u001b[0m \u001b[0mallow_duplicate\u001b[0m \u001b[1;32mand\u001b[0m \u001b[0mlen\u001b[0m\u001b[1;33m(\u001b[0m\u001b[0mset\u001b[0m\u001b[1;33m(\u001b[0m\u001b[0maxis\u001b[0m\u001b[1;33m)\u001b[0m\u001b[1;33m)\u001b[0m \u001b[1;33m!=\u001b[0m \u001b[0mlen\u001b[0m\u001b[1;33m(\u001b[0m\u001b[0maxis\u001b[0m\u001b[1;33m)\u001b[0m\u001b[1;33m:\u001b[0m\u001b[1;33m\u001b[0m\u001b[0m\n\u001b[0;32m   1508\u001b[0m         \u001b[1;32mif\u001b[0m \u001b[0margname\u001b[0m\u001b[1;33m:\u001b[0m\u001b[1;33m\u001b[0m\u001b[0m\n",
      "\u001b[1;31mAxisError\u001b[0m: axis 1 is out of bounds for array of dimension 1"
     ]
    }
   ],
   "source": [
    "'''\n",
    "list_bm=['01', '02', '03', '04', '05', '06', '07', '08', '09', '10', '12',\n",
    "       '15', '16', '17', '24', '28', '29', '30', '32', '33', '34', '36',\n",
    "       '37', '38', '39', '52', '99']\n",
    "'''\n",
    "#部门代码 \n",
    "list_bm=['01']\n",
    "\n",
    "list_err=[]\n",
    "#list_err1=['201000023','200500047','201700030','200800025','201200028']   #2018-2019-1  出错的教师工号\n",
    "#list_err=['p00000074','p00000229','p00000016','910000404','p00000196','p00000040','p00000185',\n",
    "#          'p00000186','p00000187','200900046','201700006']   #全部成绩导出出错\n",
    "colors = ['yellow','pink', 'lightblue', 'lightgreen','lightyellow','goldenrod','darkolivegreen',\n",
    "         'dodgerblue','darkcyan','lightgray','tomato','indianred','khaki','lime']\n",
    "\n",
    "red_square = dict(markerfacecolor='r', marker='s')\n",
    "#for jg_id in set_jgid:\n",
    "for jg_id in list_bm:\n",
    "    #建立部门代码目录\n",
    "    path_name='img/thlt_xt/'+str(jg_id)\n",
    "    isExists=os.path.exists(path_name)\n",
    "    if not isExists:\n",
    "        os.mkdir(path_name)\n",
    "\n",
    "    ser_js_jgid=df_teacher[df_teacher.JG_ID==jg_id].JGH\n",
    "    \n",
    "    #糖葫芦图所用数据\n",
    "    #df_cjb_group=df_cjb_sinterm.groupby(['JSGH','KCMC','BFZCJ']).count()\n",
    "    #df_cjb_group.sort_values('KCMC')\n",
    "    #df_cjb_group.reset_index(inplace=True)\n",
    "\n",
    "    for index in ser_js_jgid.index:\n",
    "        jsgh=ser_js_jgid[index]\n",
    "        print(jg_id,jsgh)\n",
    "        \n",
    "        if jsgh in list_err:\n",
    "            pass\n",
    "        else :\n",
    "            #df_cjb_single=df_cjb_group[df_cjb_group.JSGH==jsgh] \n",
    "            #len1=len(df_cjb_single.groupby('KCMC').count())\n",
    "            #df_cjb_single.loc[0]=[jsgh,'A',0,1,1,1,1,1]     #人为插入一条无关记录，是为了箱图与糖葫芦图共享X轴，上下显示一致。\n",
    "            #df_cjb_single=df_cjb_single.sort_values('KCMC')\n",
    "                \n",
    "#            if (len1 !=0):   #没有课程的教师不绘制图像\n",
    "                fig=plt.figure(figsize=(6,10))    #设置图像大小\n",
    "                (ax2,ax1)=fig.subplots(2,1)\n",
    "                fig.suptitle(\"单个教师全部课程成绩分析\")\n",
    "                \n",
    "                #----------绘制箱图----------------------\n",
    "                df_cjb_xt=df_cjb_sinterm[df_cjb_sinterm.JSGH==jsgh]\n",
    "                list_labels=df_cjb_xt.groupby('KCMC').count().sort_index(0).index.tolist()   #获取课程名称\n",
    "                #print(list_labels)\n",
    "                #生成箱图数据\n",
    "                list_cjb_show=[]\n",
    "                for kcmc in list_labels:\n",
    "                    array_cjb=df_cjb_xt[df_cjb_xt.KCMC==kcmc].BFZCJ.to_numpy()\n",
    "                    array_cjb.shape=(-1,1)    \n",
    "                    list_cjb_show.append(array_cjb)\n",
    "\n",
    "                ax2.grid()\n",
    "                #if len1 ==0:\n",
    "                #    pass\n",
    "                #elif len1==1:\n",
    "                #    show_data=list_cjb_show[0]\n",
    "                #else :\n",
    "                show_data=list_cjb_show\n",
    "\n",
    "                dic_cjb_single=ax2.violinplot(show_data,widths=0.9,showmeans=True,showextrema=True,showmedians=True) \n",
    "\n",
    "                for pc in dic_cjb_single['bodies']:\n",
    "                    pc.set_facecolor('#D43F3A')\n",
    "                    pc.set_edgecolor('black')\n",
    "                    pc.set_alpha(1)\n",
    " \n",
    "                quartile1, medians, quartile3 = np.percentile(show_data, [25, 50, 75], axis=1)\n",
    "                whiskers = np.array([\n",
    "                    adjacent_values(sorted_array, q1, q3)\n",
    "                    for sorted_array, q1, q3 in zip(show_data, quartile1, quartile3)])\n",
    "                whiskersMin, whiskersMax = whiskers[:, 0], whiskers[:, 1]\n",
    "\n",
    "                inds = np.arange(1, len(medians) + 1)\n",
    "                ax2.scatter(inds, medians, marker='o', color='white', s=30, zorder=3)\n",
    "                ax2.vlines(inds, quartile1, quartile3, color='k', linestyle='-', lw=5)\n",
    "                ax2.vlines(inds, whiskersMin, whiskersMax, color='k', linestyle='-', lw=1)\n",
    "\n",
    "                #ax2.plot([-1,len1+1],[60,60],'r-.')\n",
    "                plt.yticks(range(0,101,10))\n",
    "                \n",
    "                pic_file_name='img/thlt_xt/'+jg_id+'/'+jsgh+'任课成绩分析.png'\n",
    "                plt.savefig(pic_file_name)\n",
    "                plt.close()     #否则打开的图形太多\n",
    "                #plt.show()\n",
    "\n",
    "print('ok')"
   ]
  },
  {
   "cell_type": "code",
   "execution_count": null,
   "metadata": {
    "collapsed": true
   },
   "outputs": [],
   "source": []
  },
  {
   "cell_type": "code",
   "execution_count": null,
   "metadata": {
    "collapsed": true
   },
   "outputs": [],
   "source": []
  },
  {
   "cell_type": "code",
   "execution_count": null,
   "metadata": {
    "collapsed": true
   },
   "outputs": [],
   "source": []
  },
  {
   "cell_type": "code",
   "execution_count": null,
   "metadata": {
    "collapsed": true
   },
   "outputs": [],
   "source": []
  },
  {
   "cell_type": "markdown",
   "metadata": {},
   "source": [
    "##### --end---"
   ]
  }
 ],
 "metadata": {
  "kernelspec": {
   "display_name": "Python 3",
   "language": "python",
   "name": "python3"
  },
  "language_info": {
   "codemirror_mode": {
    "name": "ipython",
    "version": 3
   },
   "file_extension": ".py",
   "mimetype": "text/x-python",
   "name": "python",
   "nbconvert_exporter": "python",
   "pygments_lexer": "ipython3",
   "version": "3.6.4"
  }
 },
 "nbformat": 4,
 "nbformat_minor": 2
}
